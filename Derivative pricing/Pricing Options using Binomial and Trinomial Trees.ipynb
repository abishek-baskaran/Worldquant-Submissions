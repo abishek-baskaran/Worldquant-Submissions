{
 "cells": [
  {
   "cell_type": "markdown",
   "id": "7262be50-d5d1-47f3-933f-1eae54792762",
   "metadata": {
    "tags": []
   },
   "source": [
    "## Step 1"
   ]
  },
  {
   "cell_type": "markdown",
   "id": "16b7ee8f-9f99-40aa-b4f0-23bfe1e453ad",
   "metadata": {},
   "source": [
    "#### 1. Does put-call parity apply for European options? Why or why not?\n",
    "\n",
    "Yes, put-call parity applies for European options. The put-call parity states that the difference between the price of a European call option and a European put option with the same underlying asset, strike price, and expiration date should be equal to the present value of the strike price. This relationship holds for European options because European options can only be exercised at expiration."
   ]
  },
  {
   "cell_type": "markdown",
   "id": "77657168-bb03-4314-a8b2-6c1932d76806",
   "metadata": {},
   "source": [
    "#### 2. Rewrite put-call parity to solve for the call price in terms of everything else.\n",
    "\n",
    "The put-call parity can be written to solve for the call price as follows: \n",
    "\n",
    "$$\n",
    "\\begin{align}\n",
    "C &= P + S - Ke^{-rT} \\nonumber \\\\[5pt]\n",
    "\\text{where,} \\nonumber \\\\[3pt]\n",
    "C &= \\text{call price} \\nonumber \\\\\n",
    "P &= \\text{put price} \\nonumber \\\\\n",
    "S &= \\text{underlying asset price} \\nonumber\\\\\n",
    "K &= \\text{strike price} \\nonumber \\\\\n",
    "r &= \\text{risk-free interest rate} \\nonumber \\\\\n",
    "T &= \\text{time to expiration} \\nonumber\n",
    "\\end{align}\n",
    "$$\n"
   ]
  },
  {
   "cell_type": "markdown",
   "id": "afc042b7-70dd-49ac-893f-03ff70157635",
   "metadata": {},
   "source": [
    "#### 3. Rewrite put-call parity to solve for the put price in terms of everything else.\n",
    "\n",
    "The put-call parity can also be written to solve for the put price as follows:\n",
    "\n",
    "$$\n",
    "\\begin{align}\n",
    "P &= C - S + Ke^{-rT} \\nonumber \\\\[5pt]\n",
    "\\text{where,} \\nonumber \\\\[3pt] \n",
    "C &= \\text{call price} \\nonumber \\\\\n",
    "P &= \\text{put price} \\nonumber \\\\\n",
    "S &= \\text{underlying asset price} \\nonumber \\\\\n",
    "K &= \\text{strike price} \\nonumber \\\\\n",
    "r &= \\text{risk-free interest rate} \\nonumber \\\\\n",
    "T &= \\text{time to expiration} \\nonumber\n",
    "\\end{align}\n",
    "$$\n"
   ]
  },
  {
   "cell_type": "markdown",
   "id": "9aee3614-383f-4d63-bdef-ec03f2a07905",
   "metadata": {},
   "source": [
    "#### 4. Does put-call parity apply for American options? Why or why not?\n",
    "\n",
    "No, put-call parity does not apply for American options. American options can be exercised at any time prior to expiration, whereas European options can only be exercised at expiration. Because of this extra optionality, American options can be worth more than European options with the same underlying, strike price, and expiration. This means that the relationship between the call price and put price for American options may differ from that of European options, so put-call parity may not hold for American options."
   ]
  },
  {
   "cell_type": "markdown",
   "id": "ce80cb17-4c50-4c37-983d-ff7f3e32875f",
   "metadata": {},
   "source": [
    "$\n",
    "\\begin{align}\n",
    "\\hspace{1cm}S_0 &= 100 \\nonumber \\\\\n",
    "\\hspace{1cm}r &= 5\\% \\nonumber \\\\\n",
    "\\hspace{1cm}\\sigma &= 20\\% \\nonumber \\\\\n",
    "\\hspace{1cm}T &= 3 months \\nonumber \\\\\n",
    "\\end{align}\n",
    "$"
   ]
  },
  {
   "cell_type": "markdown",
   "id": "7a2c0bfb-f60f-467a-9b70-3bca4dd4557c",
   "metadata": {},
   "source": [
    "Below is a python class, which can be used to compute prices and deltas for the upcoming tasks."
   ]
  },
  {
   "cell_type": "code",
   "execution_count": 35,
   "id": "b29895ee-efee-4896-b739-ea480fe1145e",
   "metadata": {},
   "outputs": [],
   "source": [
    "import numpy as np\n",
    "import matplotlib.pyplot as plt\n",
    "\n",
    "class OptionPricing:\n",
    "    '''\n",
    "    A class that computes the option price of European/American/Asian options using binomial/trinomial pricing approach\n",
    "    \n",
    "    parameters:\n",
    "    -----------\n",
    "    S_0: Value of the underlying asset\n",
    "    K: Strike price\n",
    "    sigma: Volatility of the underlying asset\n",
    "    T: Time to maturity (in years)\n",
    "    N: Number of steps in the tree\n",
    "    r: risk-free rate of interest\n",
    "    option_type: \n",
    "            values: call / put\n",
    "    option_style:\n",
    "            values: European / American / Asian\n",
    "            \n",
    "    Methods:\n",
    "    --------\n",
    "    binomial_pricing(): \n",
    "        Uses the binomial pricing model to price the option with the given parameters.\n",
    "        Returns a tuple of 4 elements.\n",
    "            1. The option price, discounted to time t=0.\n",
    "            2. A numpy array of the price evolution using Binomial model upto time T with N number of steps.\n",
    "            3. A numpy array of the option price at each step in the tree (which can be essential in pricing the Asian option).\n",
    "            4. A numpy array with deltas at each node until expiration.\n",
    "            \n",
    "    trinomial_pricing():\n",
    "        Uses the trinomial pricing model to price the option with the given parameters.\n",
    "        Returns a tuple of 3 elements.\n",
    "            1. Option price, discounted to time t=0.\n",
    "            2. Numpy array of the price evolution using Trinomial model upto time T with N number of steps.\n",
    "            3. Numpy array ot the option price at each step in the tree\n",
    "    '''\n",
    "    def __init__(self, S_0, K, sigma, T, N, r, option_type, option_style):\n",
    "        self.S_0 = S_0\n",
    "        self.K = K\n",
    "        self.sigma = sigma\n",
    "        self.T = T\n",
    "        self.N = N\n",
    "        self.r = r\n",
    "        self.dt = T / N\n",
    "        self.option_type = option_type\n",
    "        self.option_style = option_style\n",
    "        self.discount = np.exp(-self.r * self.dt)\n",
    "        \n",
    "    def __traverse_backward(self, arr, i, j, results):\n",
    "        if i < 0 or j < 0:\n",
    "            return\n",
    "        if arr[i][j] == 0:\n",
    "            self.__traverse_backward(arr, i-1, j, results)\n",
    "        else:\n",
    "            results.append(arr[i][j])\n",
    "            self.__traverse_backward(arr, i, j-1, results)\n",
    "        return results\n",
    "            \n",
    "    \n",
    "    def binomial_pricing(self):\n",
    "        self.u = np.exp(self.sigma * np.sqrt(self.dt))\n",
    "        self.d = np.exp(-self.sigma * np.sqrt(self.dt))\n",
    "        self.p = (np.exp(self.r * self.dt) - self.d) / (self.u - self.d)\n",
    "        self.S_t = np.zeros([self.N + 1, self.N + 1])\n",
    "        self.Op = self.S_t.copy()\n",
    "        self.delta = np.zeros([self.N, self.N])\n",
    "        \n",
    "        if self.option_style != \"Asian\":\n",
    "            for i in range(self.N, -1, -1):\n",
    "                for j in range(i, -1, -1):\n",
    "                    self.S_t[j, i] = self.S_0 * self.u ** (i-j) * self.d ** j\n",
    "                    if self.option_type == \"call\":\n",
    "                        self.Op[j, i] = max(self.S_t[j,i] - self.K, 0)\n",
    "                    elif self.option_type == \"put\":\n",
    "                        self.Op[j, i] = max(self.K - self.S_t[j,i], 0)    \n",
    "                    if i < self.N:\n",
    "                        if self.option_style == \"European\":\n",
    "                            self.Op[j, i] = self.discount * (self.p * self.Op[j, i+1] + (1-self.p) * self.Op[j+1, i+1])\n",
    "\n",
    "                        elif self.option_style == \"American\":\n",
    "                            at_maturity = self.discount * (self.p * self.Op[j, i+1] + (1-self.p) * self.Op[j+1, i+1])\n",
    "                            early = self.Op[j, i]\n",
    "                            self.Op[j, i] = max(at_maturity, early)\n",
    "\n",
    "                        self.delta[j, i] = (self.Op[j, i+1] - self.Op[j+1, i+1]) / (self.S_t[j, i+1] - self.S_t[j+1, i+1])\n",
    "\n",
    "            return np.round(self.Op[0,0], 2), np.round(self.S_t, 2), np.round(self.Op, 2), np.round(self.delta, 2)    \n",
    "        \n",
    "        else:\n",
    "            \n",
    "            for i in range(self.N, -1, -1):\n",
    "                for j in range(i, -1, -1):\n",
    "                    self.S_t[j, i] = self.S_0 * self.u ** (i-j) * self.d ** j\n",
    "            \n",
    "            mean_list = []\n",
    "            \n",
    "            for i in range(1, self.S_t.shape[1]+1):\n",
    "                mean_list.append(np.mean(self.__traverse_backward(self.S_t[:i], self.S_t[:i].shape[0]-1, self.S_t.shape[1]-1, [])))\n",
    "                \n",
    "            if self.option_type == \"call\":\n",
    "                payoff = [max(mean_list[i] - self.K, 0) for i in range(len(mean_list))]\n",
    "\n",
    "            \n",
    "            elif self.option_type == \"put\":\n",
    "                payoff = [max(self.K - mean_list[i], 0) for i in range(len(mean_list))]\n",
    "                \n",
    "            self.Op[:,-1] = payoff\n",
    "            \n",
    "            for i in range(self.N-1, -1, -1):\n",
    "                for j in range(i, -1, -1):\n",
    "                    self.Op[j, i] = self.discount * (self.p * self.Op[j, i+1] + (1-self.p) * self.Op[j+1, i+1])\n",
    "                \n",
    "            return np.round(payoff, 2), np.round(self.Op, 2)\n",
    "        \n",
    "    \n",
    "    def trinomial_pricing(self):\n",
    "        self.u = np.exp(self.sigma * np.sqrt(2*self.dt))\n",
    "        self.d = np.exp(-self.sigma * np.sqrt(2*self.dt))\n",
    "        self.pu = ((np.exp(self.r * self.dt / 2) - np.exp(-self.sigma * np.sqrt(self.dt/2)))\\\n",
    "                    / (np.exp(self.sigma * np.sqrt(self.dt/2)) - np.exp(-self.sigma * np.sqrt(self.dt/2)))) ** 2\n",
    "        self.pd = ((-np.exp(self.r * self.dt / 2) + np.exp(self.sigma * np.sqrt(self.dt/2)))\\\n",
    "                    / (np.exp(self.sigma * np.sqrt(self.dt/2)) - np.exp(-self.sigma * np.sqrt(self.dt/2)))) ** 2\n",
    "        self.pm = 1 - self.pu - self.pd\n",
    "        \n",
    "        self.S_t = np.zeros([2 * self.N + 1, self.N + 1])\n",
    "        \n",
    "        self.Op = self.S_t.copy()\n",
    "        \n",
    "        self.S_t[self.N, 0] = self.S_0\n",
    "        \n",
    "        for i in range(1, self.N + 1):\n",
    "            for j in range(self.N - i, self.N + i + 1):\n",
    "                if j == self.N - i:\n",
    "                    self.S_t[j, i] = self.S_t[j + 1, i - 1] * self.u\n",
    "                elif j == self.N + i:\n",
    "                    self.S_t[j, i] = self.S_t[j - 1, i - 1] * self.d\n",
    "                else:\n",
    "                    self.S_t[j, i] = self.S_t[j, i - 1]\n",
    "        \n",
    "        for i in range(self.N, -1, -1):\n",
    "            for j in range(self.N - i, self.N + i + 1):\n",
    "                if self.option_type == \"call\":\n",
    "                    self.Op[j, i] = max(self.S_t[j, i] - self.K, 0)\n",
    "                elif self.option_type == \"put\":\n",
    "                    self.Op[j, i] = max(self.K - self.S_t[j, i], 0)\n",
    "                if i < self.N:\n",
    "                    if self.option_style == \"European\":\n",
    "                        self.Op[j, i] = self.discount * (self.pu * self.Op[j-1, i+1] + self.pm * self.Op[j, i+1] + self.pd * self.Op[j+1, i+1])\n",
    "                    elif self.option_style == \"American\":\n",
    "                        at_maturity = self.discount * (self.pu * self.Op[j-1, i+1] + self.pm * self.Op[j, i+1] + self.pd * self.Op[j+1, i+1])\n",
    "                        early = self.Op[j, i]\n",
    "                        self.Op[j, i] = max(at_maturity, early)\n",
    "\n",
    "        return np.round(self.Op[self.N, 0], 2), np.round(self.S_t, 2), np.round(self.Op, 2)\n",
    "    \n",
    "    def __repr__(self):\n",
    "        st = f\"{self.option_style} option \\nPrice of underlying: {self.S_0} \\nStrike Price: {self.K}\"\n",
    "        return st"
   ]
  },
  {
   "cell_type": "markdown",
   "id": "0c432074-ba77-4768-8437-7adedfc101bc",
   "metadata": {},
   "source": [
    "#### 5. Price an ATM European call and put using a binomial tree:\n",
    "##### a. Choose the number of steps in the tree you see convenient to achieve reliable estimates."
   ]
  },
  {
   "cell_type": "markdown",
   "id": "86910020-4b23-4860-9e77-6ab24b989845",
   "metadata": {},
   "source": [
    "To achieve a reliable estimate of the number of steps, we will compute the option price using N in a range from 1 to 200. The best number of steps would be the number where the option price converges with a reliable approximation."
   ]
  },
  {
   "cell_type": "code",
   "execution_count": 36,
   "id": "5abacdb1-4443-491d-9eac-241b88850b87",
   "metadata": {},
   "outputs": [
    {
     "data": {
      "text/plain": [
       "13.55"
      ]
     },
     "execution_count": 36,
     "metadata": {},
     "output_type": "execute_result"
    }
   ],
   "source": [
    "OptionPricing(120, 120, 0.3, 8/12, 100, 0.05, \"call\", \"European\").binomial_pricing()[0]"
   ]
  },
  {
   "cell_type": "code",
   "execution_count": 2,
   "id": "54f47c4f-6c3c-4e93-87b6-6260d301adce",
   "metadata": {},
   "outputs": [],
   "source": [
    "S_0 = 100\n",
    "K = 100\n",
    "r = 0.05\n",
    "sigma = 0.20\n",
    "T = 3/12"
   ]
  },
  {
   "cell_type": "code",
   "execution_count": 3,
   "id": "34530f9f-342d-4d0a-9561-7231d3814111",
   "metadata": {},
   "outputs": [
    {
     "data": {
      "image/png": "[encoded data removed]",
      "text/plain": [
       "<Figure size 640x480 with 1 Axes>"
      ]
     },
     "metadata": {},
     "output_type": "display_data"
    }
   ],
   "source": [
    "# European call price\n",
    "\n",
    "european_call_prices = [OptionPricing(S_0, K, sigma, T, i, r, \"call\", \"European\")\n",
    "                        .binomial_pricing()[0] for i in range(5, 200, 5)]\n",
    "\n",
    "plt.plot(range(5, 200, 5), european_call_prices)\n",
    "plt.ylim(0, max(european_call_prices) + 2)\n",
    "plt.ylabel(\"Price of European call option\")\n",
    "plt.xlabel(\"Number of steps (N)\")\n",
    "\n",
    "plt.show()"
   ]
  },
  {
   "cell_type": "markdown",
   "id": "6e7c4eb3-520b-4489-8567-51ca3940872c",
   "metadata": {},
   "source": [
    "$N = 50$ seems to be a reliable estimate as the price converge significantly."
   ]
  },
  {
   "cell_type": "code",
   "execution_count": 4,
   "id": "74e3ad9a-c263-4965-ad57-342e0189e2c3",
   "metadata": {},
   "outputs": [
    {
     "name": "stdout",
     "output_type": "stream",
     "text": [
      "Price of European call using a binomial tree: 4.6\n"
     ]
    }
   ],
   "source": [
    "european_call_price = european_call_prices[(50-5)//5]\n",
    "print(f\"Price of European call using a binomial tree: {european_call_price}\")"
   ]
  },
  {
   "cell_type": "code",
   "execution_count": 5,
   "id": "747e730b-5cc8-4894-b2dd-b3fb58ea5e19",
   "metadata": {},
   "outputs": [
    {
     "data": {
      "image/png": "[encoded data removed]",
      "text/plain": [
       "<Figure size 640x480 with 1 Axes>"
      ]
     },
     "metadata": {},
     "output_type": "display_data"
    }
   ],
   "source": [
    "# European put option\n",
    "\n",
    "european_put_prices = [OptionPricing(S_0, K, sigma, T, i, r, \"put\", \"European\")\n",
    "                        .binomial_pricing()[0] for i in range(5, 200, 5)]\n",
    "\n",
    "plt.plot(range(5, 200, 5), european_put_prices)\n",
    "plt.ylim(0, max(european_put_prices) + 2)\n",
    "plt.ylabel(\"Price of European put option\")\n",
    "plt.xlabel(\"Number of steps (N)\")\n",
    "\n",
    "plt.show()"
   ]
  },
  {
   "cell_type": "markdown",
   "id": "8fddd652-7420-4620-9a9a-e4f7939ff607",
   "metadata": {},
   "source": [
    "Again, at $N = 50$, the price converge."
   ]
  },
  {
   "cell_type": "code",
   "execution_count": 6,
   "id": "ad93bb6e-937e-4d9b-a80b-b9760d424987",
   "metadata": {},
   "outputs": [
    {
     "name": "stdout",
     "output_type": "stream",
     "text": [
      "Price of European put using a binomial tree: 3.35\n"
     ]
    }
   ],
   "source": [
    "european_put_price = european_put_prices[(50-5)//5]\n",
    "print(f\"Price of European put using a binomial tree: {european_put_price}\")"
   ]
  },
  {
   "cell_type": "markdown",
   "id": "e9b973b1-a600-453c-b027-dcc3167799c7",
   "metadata": {},
   "source": [
    "##### b. Briefly describe the overall process, as well as a reason why you choose that number of steps in the tree.\n",
    "\n",
    "* We start by specifying current price of underlying asset, option's strike price, time to expiration, volatility, call/put as the inputs. \n",
    "\n",
    "* Current price of underlying is used to construct the evolution of the asset over time t, considering two steps (up/down) at each node, to form a binomial tree.\n",
    "\n",
    "* Next we compute the option's payoff at expiration for each possible price path of the underlying asset.\n",
    "\n",
    "* Then, we do backward induction upto present and discount them using risk-free interest rate to obtain the option's fair value.\n",
    "\n",
    "* The number of steps in the tree is estimated by pricing the options using different steps in the range 5-200 with the step of 5. We then plotted the prices to find the optimal number of steps, where the prices converge to desirable level, also being aware of the computational complexity."
   ]
  },
  {
   "cell_type": "markdown",
   "id": "a30dcf42-3d84-408d-bf04-33a5f328ac02",
   "metadata": {},
   "source": [
    "#### 6. Compute the Greek Delta for the European call and European put at time 0:"
   ]
  },
  {
   "cell_type": "code",
   "execution_count": 7,
   "id": "533ce09a-8a22-40ba-98f8-8b7e879c97f1",
   "metadata": {},
   "outputs": [
    {
     "name": "stdout",
     "output_type": "stream",
     "text": [
      "Delta of European call at time 0: 0.57\n"
     ]
    }
   ],
   "source": [
    "european_call_delta = OptionPricing(S_0, K, sigma, T, 50, r, \"call\", \"European\").binomial_pricing()[3][0, 0]\n",
    "\n",
    "print(f\"Delta of European call at time 0: {european_call_delta}\")"
   ]
  },
  {
   "cell_type": "code",
   "execution_count": 8,
   "id": "20c4be37-b4e2-478f-af37-74ca7b396ea7",
   "metadata": {},
   "outputs": [
    {
     "name": "stdout",
     "output_type": "stream",
     "text": [
      "Delta of European put at time 0: -0.43\n"
     ]
    }
   ],
   "source": [
    "european_put_delta = OptionPricing(S_0, K, sigma, T, 50, r, \"put\", \"European\").binomial_pricing()[3][0, 0]\n",
    "\n",
    "print(f\"Delta of European put at time 0: {european_put_delta}\")"
   ]
  },
  {
   "cell_type": "markdown",
   "id": "a9a6c2c2-f2d7-4a41-a56c-d74ea0692913",
   "metadata": {},
   "source": [
    "##### a. How do they compare?\n",
    "\n",
    "At time 0, the delta of a call option is positive (0.57), while the delta of put option is negative (0.43)."
   ]
  },
  {
   "cell_type": "markdown",
   "id": "d4799f9e-0eb6-4cce-bdf7-87093e8e8ef3",
   "metadata": {},
   "source": [
    "##### b. Comment briefly on the differences and signs of Delta for both options.What does delta proxy for? Why does it make sense to obtain a positive/negative delta for each option?\n",
    "\n",
    "* Delta of an option represents the change in option's price for a small change in the underlying asset price. \n",
    "* A positive Delta indicates that the option price increases when the underlying asset price increases, while a negative delta indicates the opposite. \n",
    "* The Delta for a call option is always positive, because the option becomes more valuable as the underlying asset price increases, while the Delta for a put option is always negative, because the option becomes more valuable as the underlying asset price decreases."
   ]
  },
  {
   "cell_type": "markdown",
   "id": "0692ba8f-0c0a-4b68-8e16-1ca4721a9cc5",
   "metadata": {},
   "source": [
    "#### 7. Delta measures one sensitivity of the option price. But there are other important sensitivities we will look at throughout the course. An important one is the sensitivity of the option price to the underlying volatility (vega)."
   ]
  },
  {
   "cell_type": "markdown",
   "id": "4619d01f-3874-4003-90fa-07a82869e355",
   "metadata": {},
   "source": [
    "##### a. Compute the sensitivity of previous put and call option prices to a 5% increase in volatility (from 20% to 25%). How do prices change with respect to the change in volatility?"
   ]
  },
  {
   "cell_type": "code",
   "execution_count": 9,
   "id": "7b0c90ae-41d6-4542-ac9d-685860bf6906",
   "metadata": {},
   "outputs": [
    {
     "name": "stdout",
     "output_type": "stream",
     "text": [
      "\n",
      "Call price at 20% volatility:4.6\n",
      "Call price at 25% volatility:5.57\n",
      "Put price at 20% volatility:3.35\n",
      "Put price at 25% volatility:4.33\n",
      "\n"
     ]
    }
   ],
   "source": [
    "call_price_at_20 = OptionPricing(S_0, K, 0.20, T, 50, r, \"call\", \"European\").binomial_pricing()[0]\n",
    "call_price_at_25 = OptionPricing(S_0, K, 0.25, T, 50, r, \"call\", \"European\").binomial_pricing()[0]\n",
    "put_price_at_20 = OptionPricing(S_0, K, 0.20, T, 50, r, \"put\", \"European\").binomial_pricing()[0]\n",
    "put_price_at_25 = OptionPricing(S_0, K, 0.25, T, 50, r, \"put\", \"European\").binomial_pricing()[0]\n",
    "\n",
    "print(f'''\n",
    "Call price at 20% volatility:{call_price_at_20}\n",
    "Call price at 25% volatility:{call_price_at_25}\n",
    "Put price at 20% volatility:{put_price_at_20}\n",
    "Put price at 25% volatility:{put_price_at_25}\n",
    "''')"
   ]
  },
  {
   "cell_type": "markdown",
   "id": "3969bc58-7e46-4bda-a178-61c641edbdf7",
   "metadata": {},
   "source": [
    "##### b. Comment on the potential differential impact of this change for call and put options.\n",
    "\n",
    "For both call and put option, the price increases with the increase in volatility. This is because, the increase in volatiliy increases the probability of the underlying asset price moving in either direction at expiration, increasing the potential profit for both call and put option."
   ]
  },
  {
   "cell_type": "markdown",
   "id": "a35904ef-6322-4d06-8b80-cfe11b9f5d6b",
   "metadata": {},
   "source": [
    "#### 8. Price an ATM American call and put using a binomial tree:\n",
    "##### a. Choose the number of steps in the tree you see convenient to achieve reliable estimates."
   ]
  },
  {
   "cell_type": "code",
   "execution_count": 10,
   "id": "4d049329-b80a-4849-b1ff-600c8b058495",
   "metadata": {},
   "outputs": [
    {
     "data": {
      "image/png": "[encoded data removed]",
      "text/plain": [
       "<Figure size 640x480 with 1 Axes>"
      ]
     },
     "metadata": {},
     "output_type": "display_data"
    }
   ],
   "source": [
    "# American call price\n",
    "\n",
    "american_call_prices = [OptionPricing(S_0, K, sigma, T, i, r, \"call\", \"American\")\n",
    "                        .binomial_pricing()[0] for i in range(5, 200, 5)]\n",
    "\n",
    "plt.plot(range(5, 200, 5), american_call_prices)\n",
    "plt.ylim(0, max(american_call_prices) + 2)\n",
    "plt.ylabel(\"Price of American call option\")\n",
    "plt.xlabel(\"Number of steps (N)\")\n",
    "\n",
    "plt.show()"
   ]
  },
  {
   "cell_type": "code",
   "execution_count": 11,
   "id": "0409327b-a19a-4d4b-8c0f-7a0a5e7b8116",
   "metadata": {},
   "outputs": [
    {
     "name": "stdout",
     "output_type": "stream",
     "text": [
      "Price of American call using a binomial tree: 4.6\n"
     ]
    }
   ],
   "source": [
    "american_call_price = american_call_prices[(50-5)//5]\n",
    "print(f\"Price of American call using a binomial tree: {american_call_price}\")"
   ]
  },
  {
   "cell_type": "code",
   "execution_count": 12,
   "id": "9170a491-b2a6-469e-9468-d61208e6bf81",
   "metadata": {},
   "outputs": [
    {
     "data": {
      "image/png": "[encoded data removed]",
      "text/plain": [
       "<Figure size 640x480 with 1 Axes>"
      ]
     },
     "metadata": {},
     "output_type": "display_data"
    }
   ],
   "source": [
    "# American put price\n",
    "\n",
    "american_put_prices = [OptionPricing(S_0, K, sigma, T, i, r, \"put\", \"American\")\n",
    "                        .binomial_pricing()[0] for i in range(5, 200, 5)]\n",
    "\n",
    "plt.plot(range(5, 200, 5), american_put_prices)\n",
    "plt.ylim(0, max(american_put_prices) + 2)\n",
    "plt.ylabel(\"Price of American put option\")\n",
    "plt.xlabel(\"Number of steps (N)\")\n",
    "\n",
    "plt.show()"
   ]
  },
  {
   "cell_type": "code",
   "execution_count": 13,
   "id": "cf378384-8d56-4afd-8f63-7915de6da2d1",
   "metadata": {},
   "outputs": [
    {
     "name": "stdout",
     "output_type": "stream",
     "text": [
      "Price of American put using a binomial tree: 3.47\n"
     ]
    }
   ],
   "source": [
    "american_put_price = american_put_prices[(50-5)//5]\n",
    "print(f\"Price of American put using a binomial tree: {american_put_price}\")"
   ]
  },
  {
   "cell_type": "markdown",
   "id": "2a825e00-5a5c-49af-bd73-b9a3a038c33f",
   "metadata": {},
   "source": [
    "To price an ATM American call and put using a binomial tree, one convenient number of steps could be 50 steps. This number of steps would provide a relatively accurate estimate of the option prices while still being computationally manageable.\n",
    "\n",
    "##### b. Briefly describe the overall process, as well as a reason why you choose that number of steps in the tree.\n",
    "The overall process would involve building a binomial tree that follows the evolution of the underlying asset price over time. At each step, the underlying asset price would either increase or decrease by a certain amount, based on the volatility and the risk-free interest rate. The option prices would then be calculated by working backwards from the final step and taking into account the option's intrinsic value and the expected pay-outs at each node.\n",
    "\n",
    "#### 9. Compute the Greek Delta for the American call and American put at time 0:"
   ]
  },
  {
   "cell_type": "code",
   "execution_count": 14,
   "id": "64c8d02c-3b80-4c39-a0ab-61bc10d7de6c",
   "metadata": {},
   "outputs": [
    {
     "name": "stdout",
     "output_type": "stream",
     "text": [
      "Delta of American call at time 0: 0.57\n"
     ]
    }
   ],
   "source": [
    "american_call_delta = OptionPricing(S_0, K, sigma, T, 50, r, \"call\", \"American\").binomial_pricing()[3][0, 0]\n",
    "\n",
    "print(f\"Delta of American call at time 0: {american_call_delta}\")"
   ]
  },
  {
   "cell_type": "code",
   "execution_count": 15,
   "id": "7609ab01-4fac-4d77-8b99-a8b2cc5ace48",
   "metadata": {},
   "outputs": [
    {
     "name": "stdout",
     "output_type": "stream",
     "text": [
      "Delta of American put at time 0: -0.45\n"
     ]
    }
   ],
   "source": [
    "american_put_delta = OptionPricing(S_0, K, sigma, T, 50, r, \"put\", \"American\").binomial_pricing()[3][0, 0]\n",
    "\n",
    "print(f\"Delta of American put at time 0: {american_put_delta}\")"
   ]
  },
  {
   "cell_type": "markdown",
   "id": "7e3eb035-4ee0-428e-bfa7-3426d3089906",
   "metadata": {},
   "source": [
    "##### a. How do they compare?\n",
    "\n",
    "The Delta for the American call and American put at time 0 is positive (0.57) and negative (-0.45), respectively. The Delta for the call option represents the change in the option price with respect to a small change in the underlying asset price, while the Delta for the put option represents the opposite relationship.\n",
    "\n",
    "##### b. Comment briefly on the differences and signs of Delta for both options. What does delta proxy for? Why does it make sense to obtain a positive/negative delta for each option?\n",
    "\n",
    "The Delta of a call option is an estimate of the rate of change of the option price with respect to the underlying asset price. It gives us a sense of how much the option price will change for a unit change in the underlying asset price. On the other hand, the Delta of a put option is negative, meaning that the price of the option will decrease as the underlying asset price increases. Delta is commonly referred to as the \"hedge ratio\" and it represents the proportion of the underlying asset that one should hold in a portfolio to hedge against changes in the option price. Delta acts as a proxy for the likelihood that the option will be exercised. The difference and signs of Delta for both options make sense because the call option benefits from an increase in the underlying asset price, while the put option benefits from a decrease in the underlying asset price. If Delta is positive, it means that the call option price is sensitive to changes in the underlying asset price, and thus, one should hold a positive position in the underlying asset. If Delta is negative, it means that the put option price is sensitive to changes in the underlying asset price, and thus, one should hold a negative position in the underlying asset.\n",
    "\n",
    "#### 10. Delta measures one sensitivity of the option price. But there are other important sensitivities we will look at throughout the course. An important one is the sensitivity of the option price to the underlying volatility (vega).\n",
    "\n",
    "##### a. Compute the sensitivity of previous put and call option prices to a 5% increase in volatility (from 20% to 25%). How do prices change with respect to the change in volatility?"
   ]
  },
  {
   "cell_type": "code",
   "execution_count": 16,
   "id": "2fae464d-7754-45d0-8075-563d42a26f54",
   "metadata": {},
   "outputs": [
    {
     "name": "stdout",
     "output_type": "stream",
     "text": [
      "\n",
      "Call price at 20% volatility:4.6\n",
      "Call price at 25% volatility:5.57\n",
      "Put price at 20% volatility:3.47\n",
      "Put price at 25% volatility:4.45\n",
      "\n"
     ]
    }
   ],
   "source": [
    "call_price_at_20 = OptionPricing(S_0, K, 0.20, T, 50, r, \"call\", \"American\").binomial_pricing()[0]\n",
    "call_price_at_25 = OptionPricing(S_0, K, 0.25, T, 50, r, \"call\", \"American\").binomial_pricing()[0]\n",
    "put_price_at_20 = OptionPricing(S_0, K, 0.20, T, 50, r, \"put\", \"American\").binomial_pricing()[0]\n",
    "put_price_at_25 = OptionPricing(S_0, K, 0.25, T, 50, r, \"put\", \"American\").binomial_pricing()[0]\n",
    "\n",
    "print(f'''\n",
    "Call price at 20% volatility:{call_price_at_20}\n",
    "Call price at 25% volatility:{call_price_at_25}\n",
    "Put price at 20% volatility:{put_price_at_20}\n",
    "Put price at 25% volatility:{put_price_at_25}\n",
    "''')"
   ]
  },
  {
   "cell_type": "markdown",
   "id": "acd20656-55b5-4d81-affb-dea66bdf6ebf",
   "metadata": {},
   "source": [
    "Considering American-style options, a 5% increase in volatility from 20% to 25% would increase the price of both the call and put options. This is because an increase in volatility increases the uncertainty about the future price of the underlying asset, which makes the options more valuable. \n",
    "\n",
    "##### b. Comment on the potential differential impact of this change for call and put options.\n",
    "\n",
    "The potential differential impact of a change in volatility would depend on the initial price and delta of the call and put options. A call option with a higher initial price and delta would see a larger increase in price with a change in volatility than a put option with a lower initial price and delta.\n"
   ]
  },
  {
   "cell_type": "markdown",
   "id": "64a84cad-6ddf-4e2a-825a-c3413d1bcf68",
   "metadata": {},
   "source": [
    "#### 11. If the team answered Q1 as “Yes” (i.e. that put-call parity holds), then show that the European call and put satisfy put-call parity. Comment on the reasons why/why not the parity holds, as well as potential motives.\n",
    "\n",
    "Yes, for a European option, put-call parity holds.\n",
    "\n",
    "$$ c_0 + Ke^{-rT} = S_0 + p_0 $$"
   ]
  },
  {
   "cell_type": "code",
   "execution_count": 17,
   "id": "bf4b57bd-e767-430d-aebb-a48ce76a25e3",
   "metadata": {},
   "outputs": [
    {
     "name": "stdout",
     "output_type": "stream",
     "text": [
      "LHS: 103.36\n",
      "RHS: 103.35\n"
     ]
    }
   ],
   "source": [
    "c_0 = european_call_price\n",
    "p_0 = european_put_price\n",
    "\n",
    "assert np.round(c_0 + K*np.exp(-r*T), 1) == np.round(S_0 + p_0, 1)\n",
    "\n",
    "print(f\"LHS: {np.round(c_0 + K*np.exp(-r*T), 2)}\")\n",
    "print(f\"RHS: {np.round(S_0 + p_0, 2)}\")"
   ]
  },
  {
   "cell_type": "markdown",
   "id": "0ff624aa-2bb6-49bc-ba52-f2472f2f61c2",
   "metadata": {},
   "source": [
    "We can see the put-call parity hold for the European option because if we have two portfolios (one has a European call option and the other has a European put option)they will end with the same payoff regardless of the movement of underlying price (up or down). The motive behind this is to eliminate arbitrage opportunities."
   ]
  },
  {
   "cell_type": "markdown",
   "id": "ba4eaf2a-6a0b-4803-9718-909861ca5437",
   "metadata": {},
   "source": [
    "#### 12. If the team answered Q4 as “Yes” (i.e. that put-call parity holds), then show that the American call and put satisfy put-call parity. Comment on the reasons why/why not the parity holds, as well as potential motives.\n",
    "\n",
    "No, for an American option, put-call parity does not hold."
   ]
  },
  {
   "cell_type": "code",
   "execution_count": 18,
   "id": "e8c6ea7f-c304-44a7-89b0-39b7a924cfbd",
   "metadata": {},
   "outputs": [
    {
     "name": "stdout",
     "output_type": "stream",
     "text": [
      "LHS: 103.36\n",
      "RHS: 103.47\n"
     ]
    }
   ],
   "source": [
    "C_0 = american_call_price\n",
    "P_0 = american_put_price\n",
    "\n",
    "assert np.round(C_0 + K*np.exp(-r*T), 1) != np.round(S_0 + P_0, 1)\n",
    "\n",
    "print(f\"LHS: {np.round(C_0 + K*np.exp(-r*T), 2)}\")\n",
    "print(f\"RHS: {np.round(S_0 + P_0, 2)}\")"
   ]
  },
  {
   "cell_type": "markdown",
   "id": "3c784ef4-c4c7-463c-ae5a-a4fc4ed49f53",
   "metadata": {},
   "source": [
    "We can see the put-call parity does not hold for the American option because they can exercise any time up to the expiry date. American options are considered high risk because of the uncertainty."
   ]
  },
  {
   "cell_type": "markdown",
   "id": "a8fb6227-dbb4-4dbd-8d51-5f91c3eb9f32",
   "metadata": {},
   "source": [
    "#### 13. Confirm that the European call is less than or equal to the American call. Show the difference if any and comment on the reasons for this difference, would this always be the case?\n",
    "\n",
    "| | European | American |\n",
    "| --- | --- | --- |\n",
    "| **call** | 4.6 | 4.6 |\n",
    "\n",
    "Yes, the European call is always less than or equal to the American call, here we see the European call equal to the American call. If you cannot take profits from the early exercise, the two options will expire at the same value.\n",
    "\n",
    "The payoff for American call options:\n",
    "\n",
    "$ \\hspace{1cm}C_0 = (0, S_0 - K) $\n",
    "\n",
    "The payoff for European call options.\n",
    "\n",
    "$ \\hspace{1cm} c_0 \\le (0, S_0 - Ke^{-rt}) $\n",
    "\n",
    "So, we can see American call price is always equal to or greater than the European call price."
   ]
  },
  {
   "cell_type": "markdown",
   "id": "bf1ac13e-347e-4ba6-9174-56d2df431d40",
   "metadata": {},
   "source": [
    "#### 14. Confirm that the European put is less than or equal to the American put. Show the difference if any and comment on the reasons for this difference. For example, would this always be the case?\n",
    "\n",
    "| | European | American |\n",
    "| --- | --- | --- |\n",
    "| **put** | 3.35 | 3.47 |\n",
    "\n",
    "Yes, the European put is less than or equal to the American put and the difference is (3.43-3.27= 0.15). We note that the American put price exceeds the price of the European put option, so there is a motive for early exercise when it is deep in the money and the discount factor reduces volatility.\n",
    "\n",
    "The payoff for American put options:\n",
    "\n",
    "$ \\hspace{1cm}C_0 = (0, K - S_0) $\n",
    "\n",
    "The payoff for European call options.\n",
    "\n",
    "$ \\hspace{1cm}c_0 \\le (0, Ke^{-rt} - S_0) $\n",
    "\n",
    "So, we can see American put price is never less than the European put price."
   ]
  },
  {
   "cell_type": "markdown",
   "id": "dbe0b1c0-6896-4c70-924b-ed81a612a373",
   "metadata": {},
   "source": [
    "## Step 2"
   ]
  },
  {
   "cell_type": "markdown",
   "id": "26f9c970-953f-44c0-8687-173cd68a1607",
   "metadata": {},
   "source": [
    "#### 15. Select 5 strike prices so that Call options are: Deep OTM, OTM, ATM, ITM, and Deep ITM.\n",
    "\n",
    "##### a. Using the trinomial tree, price the European Call option corresponding to the 5 different strikes selected. \n",
    "\n",
    "The five strike prices selected for the Call options are:\n",
    "\n",
    "|| S<sub>0</sub> | Moneyness | K |\n",
    "|---| --- | --- | --- |\n",
    "| **Deep OTM** | 100 | 1.4 | 140 |\n",
    "| **OTM** | 100 | 1.2 | 120 |\n",
    "| **ATM** | 100 | 1.0 | 100 |\n",
    "| **ITM** | 100 | 0.8 | 80 |\n",
    "| **Deep ITM** | 100 | 0.6 | 60 |\n"
   ]
  },
  {
   "cell_type": "code",
   "execution_count": 19,
   "id": "adfb4aed-73ba-4ac7-be1c-7f1798278cee",
   "metadata": {},
   "outputs": [
    {
     "name": "stdout",
     "output_type": "stream",
     "text": [
      "The prices of the European Call options corresponding to the five strikes selected: \n",
      "\n",
      "[0.0, 0.2, 4.61, 21.02, 40.75]\n"
     ]
    }
   ],
   "source": [
    "deep_otm_K = 1.4 * S_0 \n",
    "otm_K = 1.2 * S_0\n",
    "atm_K = S_0\n",
    "itm_K = 0.8 * S_0\n",
    "deep_itm_K = 0.6 * S_0\n",
    "\n",
    "eu_call_price_list = []\n",
    "\n",
    "for i in [deep_otm_K, otm_K, atm_K, itm_K, deep_itm_K]:\n",
    "    eu_call_price_list.append(OptionPricing(S_0, i, sigma, T, 50, r, \"call\", \"European\").trinomial_pricing()[0])\n",
    "    \n",
    "print(f\"The prices of the European Call options corresponding to the five strikes selected: \\n\\n{eu_call_price_list}\")"
   ]
  },
  {
   "cell_type": "markdown",
   "id": "0d8400ef-0dc4-49a4-ae5b-b994e373e8a7",
   "metadata": {},
   "source": [
    "##### b. Comment on the trend you observe (e.g., increasing/decreasing in moneyness) in option prices and whether it makes sense.\n",
    "\n",
    "The trend observed in the option prices is that the deeper ITM the option is, the higher the price. This trend makes sense as the probability of the option finishing in the money increases as the option gets deeper ITM. Additionally, the time value of the option decreases as it gets deeper ITM, which also contributes to the higher option price."
   ]
  },
  {
   "cell_type": "markdown",
   "id": "4466543a-9616-4e0b-a5a5-61da5aa7af2d",
   "metadata": {},
   "source": [
    "#### 16. Select 5 strike prices so that Put options are: Deep OTM, OTM, ATM, ITM, and Deep ITM.\n",
    "\n",
    "##### a. Using the trinomial tree, price the European Put option corresponding to the 5 different strikes selected. \n",
    "\n",
    "The five strike prices selected for the Put options are:\n",
    "\n",
    "|| S<sub>0</sub> | Moneyness | K |\n",
    "|---| --- | --- | --- |\n",
    "| **Deep OTM** | 100 | 0.6 | 60 |\n",
    "| **OTM** | 100 | 0.8 | 80 |\n",
    "| **ATM** | 100 | 1.0 | 100 |\n",
    "| **ITM** | 100 | 1.2 | 120 |\n",
    "| **Deep ITM** | 100 | 1.4 | 140 |\n"
   ]
  },
  {
   "cell_type": "code",
   "execution_count": 34,
   "id": "cde233a6-f1a1-4fcf-b180-f9c9bdc2b313",
   "metadata": {},
   "outputs": [
    {
     "name": "stdout",
     "output_type": "stream",
     "text": [
      "The prices of the European Put options corresponding to the five strikes selected: \n",
      "\n",
      "[0.0, 0.03, 3.36, 18.71, 38.26]\n"
     ]
    }
   ],
   "source": [
    "deep_otm_K = 0.6 * S_0 \n",
    "otm_K = 0.8 * S_0\n",
    "atm_K = S_0\n",
    "itm_K = 1.2 * S_0\n",
    "deep_itm_K = 1.4 * S_0\n",
    "\n",
    "eu_put_price_list = []\n",
    "\n",
    "for i in [deep_otm_K, otm_K, atm_K, itm_K, deep_itm_K]:\n",
    "    eu_put_price_list.append(OptionPricing(S_0, i, sigma, T, 50, r, \"put\", \"European\").trinomial_pricing()[0])\n",
    "    \n",
    "print(f\"The prices of the European Put options corresponding to the five strikes selected: \\n\\n{eu_put_price_list}\")"
   ]
  },
  {
   "cell_type": "markdown",
   "id": "68e27686-0a27-4372-bd9f-5d8f7a3f299b",
   "metadata": {},
   "source": [
    "##### b. Comment on the trend you observe (e.g., increasing/decreasing in moneyness) in option prices and whether it makes sense.\n",
    "\n",
    "The trend observed in the option prices is that the deeper ITM the option is, the higher the price. This trend makes sense as the probability of the option finishing in the money increases as the option gets deeper ITM. Additionally, the time value of the option decreases as it gets deeper ITM, which also contributes to the higher option price."
   ]
  },
  {
   "cell_type": "markdown",
   "id": "869975da-a664-413e-9fbd-aaf99de68a89",
   "metadata": {},
   "source": [
    "#### 17. Select 5 strike prices so that Call options are: Deep OTM, OTM, ATM, ITM, and Deep ITM.\n",
    "\n",
    "##### a. Using the trinomial tree, price the American Call option corresponding to the 5 different strikes selected. \n",
    "\n",
    "The five strike prices selected for the Call options are:\n",
    "\n",
    "|| S<sub>0</sub> | Moneyness | K |\n",
    "|---| --- | --- | --- |\n",
    "| **Deep OTM** | 100 | 1.4 | 140 |\n",
    "| **OTM** | 100 | 1.2 | 120 |\n",
    "| **ATM** | 100 | 1.0 | 100 |\n",
    "| **ITM** | 100 | 0.8 | 80 |\n",
    "| **Deep ITM** | 100 | 0.6 | 60 |"
   ]
  },
  {
   "cell_type": "code",
   "execution_count": 22,
   "id": "011f3499-a327-4e12-ae04-6f9a7eb5b18c",
   "metadata": {},
   "outputs": [
    {
     "name": "stdout",
     "output_type": "stream",
     "text": [
      "The prices of the American Call options corresponding to the five strikes selected: \n",
      "\n",
      "[1.19, 2.49, 4.61, 7.72, 11.67]\n"
     ]
    }
   ],
   "source": [
    "deep_otm_K = 1.1 * S_0 \n",
    "otm_K = 1.05 * S_0\n",
    "atm_K = S_0\n",
    "itm_K = 0.95 * S_0\n",
    "deep_itm_K = 0.9 * S_0\n",
    "\n",
    "am_call_price_list = []\n",
    "\n",
    "for i in [deep_otm_K, otm_K, atm_K, itm_K, deep_itm_K]:\n",
    "    am_call_price_list.append(OptionPricing(S_0, i, sigma, T, 50, r, \"call\", \"American\").trinomial_pricing()[0])\n",
    "    \n",
    "print(f\"The prices of the American Call options corresponding to the five strikes selected: \\n\\n{am_call_price_list}\")"
   ]
  },
  {
   "cell_type": "markdown",
   "id": "a9d60217-61f3-4c3a-ac16-a74fa4c04f94",
   "metadata": {},
   "source": [
    "##### b. Comment on the trend you observe (e.g., increasing/decreasing in moneyness) in option prices and whether it makes sense.\n",
    "\n",
    "The trend observed is an increase in price as the strike is deeper in the money. This makes sense as the profit potential of the call option holder is very much higher when the strike is in the money which increases the price of the option."
   ]
  },
  {
   "cell_type": "markdown",
   "id": "adef02fb-70fd-4334-89dc-244a02014c2e",
   "metadata": {},
   "source": [
    "#### 18. Select 5 strike prices so that Put options are: Deep OTM, OTM, ATM, ITM, and Deep ITM.\n",
    "\n",
    "##### a. Using the trinomial tree, price the American Put option corresponding to the 5 different strikes selected. \n",
    "\n",
    "The five strike prices selected for the Put options are:\n",
    "\n",
    "|| S<sub>0</sub> | Moneyness | K |\n",
    "|---| --- | --- | --- |\n",
    "| **Deep OTM** | 100 | 0.6 | 60 |\n",
    "| **OTM** | 100 | 0.8 | 80 |\n",
    "| **ATM** | 100 | 1.0 | 100 |\n",
    "| **ITM** | 100 | 1.2 | 120 |\n",
    "| **Deep ITM** | 100 | 1.4 | 140 |\n"
   ]
  },
  {
   "cell_type": "code",
   "execution_count": 28,
   "id": "5f12d14e-34e5-45d4-b8e0-11c8acc617ac",
   "metadata": {},
   "outputs": [
    {
     "name": "stdout",
     "output_type": "stream",
     "text": [
      "The prices of the American Put options corresponding to the five strikes selected: \n",
      "\n",
      "[0.03, 0.56, 3.47, 6.43, 10.33]\n"
     ]
    }
   ],
   "source": [
    "deep_otm_K = 0.8 * S_0 \n",
    "otm_K = 0.90 * S_0\n",
    "atm_K = S_0\n",
    "itm_K = 1.05 * S_0\n",
    "deep_itm_K = 1.1 * S_0\n",
    "\n",
    "am_put_price_list = []\n",
    "\n",
    "for i in [deep_otm_K, otm_K, atm_K, itm_K, deep_itm_K]:\n",
    "    am_put_price_list.append(OptionPricing(S_0, i, sigma, T, 50, r, \"put\", \"American\").trinomial_pricing()[0])\n",
    "    \n",
    "print(f\"The prices of the American Put options corresponding to the five strikes selected: \\n\\n{am_put_price_list}\")"
   ]
  },
  {
   "cell_type": "markdown",
   "id": "ef72438f-7306-4686-a2b6-17f2c66f60fc",
   "metadata": {},
   "source": [
    "##### b. Comment on the trend you observe (e.g., increasing/decreasing in moneyness) in option prices and whether it makes sense.\n",
    "\n",
    "Similar to the call option, the price of the put option increases as the strike price is deeper in the money. This is because, the ATM and ITM swaps based on call/put. \n",
    "\n",
    "When the strike price is higher than the price of underlying asset, it is an OTM option in case of a call, but an ITM option in case of a put and vice versa. "
   ]
  },
  {
   "cell_type": "markdown",
   "id": "4cceafcd-4e63-4097-beaf-b8d2794c6e62",
   "metadata": {},
   "source": [
    "#### 19. Graph European call prices and put prices versus stock prices."
   ]
  },
  {
   "cell_type": "code",
   "execution_count": 23,
   "id": "a378f5d7-5dba-4d2d-b122-f59fc056b290",
   "metadata": {},
   "outputs": [
    {
     "data": {
      "image/png": "[encoded data removed]",
      "text/plain": [
       "<Figure size 640x480 with 1 Axes>"
      ]
     },
     "metadata": {},
     "output_type": "display_data"
    }
   ],
   "source": [
    "stock_prices = np.arange(60, 140, 5)\n",
    "\n",
    "eu_call_price = [OptionPricing(i, K, sigma, T, 50, r, \"call\", \"European\").trinomial_pricing()[0] for i in stock_prices]\n",
    "eu_put_price = [OptionPricing(i, K, sigma, T, 50, r, \"put\", \"European\").trinomial_pricing()[0] for i in stock_prices]\n",
    "\n",
    "plt.plot(stock_prices, eu_call_price, label=\"call price\")\n",
    "plt.plot(stock_prices, eu_put_price, label=\"put price\")\n",
    "\n",
    "plt.legend()\n",
    "\n",
    "plt.xlabel(\"Stock prices\")\n",
    "plt.ylabel(\"Option prices\")\n",
    "\n",
    "plt.show()"
   ]
  },
  {
   "cell_type": "markdown",
   "id": "15f760c8-3f25-40ac-9fdd-91a6d19c1cc1",
   "metadata": {},
   "source": [
    "<div style=\"page-break-after: always;\"></div>\n",
    "\n",
    "#### 20. Graph American call prices and put prices versus stock prices."
   ]
  },
  {
   "cell_type": "code",
   "execution_count": 24,
   "id": "9395f10a-37d7-4de7-abcd-f09a86de008a",
   "metadata": {},
   "outputs": [
    {
     "data": {
      "image/png": "[encoded data removed]",
      "text/plain": [
       "<Figure size 640x480 with 1 Axes>"
      ]
     },
     "metadata": {},
     "output_type": "display_data"
    }
   ],
   "source": [
    "stock_prices = np.arange(60, 140, 5)\n",
    "\n",
    "am_call_price = [OptionPricing(i, K, sigma, T, 50, r, \"call\", \"American\").trinomial_pricing()[0] for i in stock_prices]\n",
    "am_put_price = [OptionPricing(i, K, sigma, T, 50, r, \"put\", \"American\").trinomial_pricing()[0] for i in stock_prices]\n",
    "\n",
    "plt.plot(stock_prices, am_call_price, label=\"call price\")\n",
    "plt.plot(stock_prices, am_put_price, label=\"put price\")\n",
    "\n",
    "plt.legend()\n",
    "\n",
    "plt.xlabel(\"Stock prices\")\n",
    "plt.ylabel(\"Option prices\")\n",
    "\n",
    "plt.show()"
   ]
  },
  {
   "cell_type": "markdown",
   "id": "e2a60818-59d8-4464-8121-3838a67b4527",
   "metadata": {},
   "source": [
    "#### 21. Graph European and American call prices versus strike."
   ]
  },
  {
   "cell_type": "code",
   "execution_count": 25,
   "id": "0ba84d08-75c1-4105-b1d9-8ea8ba3caa28",
   "metadata": {},
   "outputs": [
    {
     "data": {
      "image/png": "[encoded data removed]",
      "text/plain": [
       "<Figure size 640x480 with 1 Axes>"
      ]
     },
     "metadata": {},
     "output_type": "display_data"
    }
   ],
   "source": [
    "strike = np.arange(60, 140, 5)\n",
    "\n",
    "eu_call_price = [OptionPricing(S_0, i, sigma, T, 50, r, \"call\", \"European\").trinomial_pricing()[0] for i in strike]\n",
    "am_call_price = [OptionPricing(S_0, i, sigma, T, 50, r, \"call\", \"American\").trinomial_pricing()[0] for i in strike]\n",
    "\n",
    "plt.plot(strike, eu_call_price, label=\"European call\")\n",
    "plt.plot(strike, am_call_price, label=\"American call\")\n",
    "\n",
    "plt.legend()\n",
    "\n",
    "plt.xlabel(\"Stock prices\")\n",
    "plt.ylabel(\"Option prices\")\n",
    "\n",
    "plt.show()"
   ]
  },
  {
   "cell_type": "markdown",
   "id": "77bec951-51aa-4a3f-aa17-259a66e8ab4d",
   "metadata": {},
   "source": [
    "<div style=\"page-break-after: always;\"></div>\n",
    "\n",
    "#### 22. Graph European and American put prices versus strike."
   ]
  },
  {
   "cell_type": "code",
   "execution_count": 26,
   "id": "9b05b9fb-cc94-4c42-9b74-6893319ed5c1",
   "metadata": {},
   "outputs": [
    {
     "data": {
      "image/png": "[encoded data removed]",
      "text/plain": [
       "<Figure size 640x480 with 1 Axes>"
      ]
     },
     "metadata": {},
     "output_type": "display_data"
    }
   ],
   "source": [
    "strike = np.arange(60, 140, 5)\n",
    "\n",
    "eu_put_price = [OptionPricing(S_0, i, sigma, T, 50, r, \"put\", \"European\").trinomial_pricing()[0] for i in strike]\n",
    "am_put_price = [OptionPricing(S_0, i, sigma, T, 50, r, \"put\", \"American\").trinomial_pricing()[0] for i in strike]\n",
    "\n",
    "plt.plot(strike, eu_put_price, label=\"European put\")\n",
    "plt.plot(strike, am_put_price, label=\"American put\")\n",
    "\n",
    "plt.legend()\n",
    "\n",
    "plt.xlabel(\"Stock prices\")\n",
    "plt.ylabel(\"Option prices\")\n",
    "\n",
    "plt.show()"
   ]
  },
  {
   "cell_type": "markdown",
   "id": "49ccd243-fbc9-4758-abe1-b416cc3fb4cf",
   "metadata": {},
   "source": [
    "#### 23. For the 5 strikes that your group member computed in Q15 and Q16, check whether put-call parity holds (within sensible rounding). Briefly comment on the reasons why/why not this is the case."
   ]
  },
  {
   "cell_type": "code",
   "execution_count": 27,
   "id": "e631f652-a527-4e02-a66d-026a4e0cc240",
   "metadata": {},
   "outputs": [
    {
     "name": "stdout",
     "output_type": "stream",
     "text": [
      "LHS: 100.0     RHS: 100.0\n",
      "LHS: 100.03     RHS: 100.03\n",
      "LHS: 103.37     RHS: 103.36\n",
      "LHS: 118.71     RHS: 118.71\n",
      "LHS: 138.26     RHS: 138.26\n"
     ]
    }
   ],
   "source": [
    "strikes = [60, 80, 100, 120, 140]\n",
    "\n",
    "for i in range(5):\n",
    "    print(f\"LHS: {np.round(eu_call_price_list[-i-1] + strikes[i] * np.exp(-r*T), 2)} \\\n",
    "    RHS: {np.round(eu_put_price_list[i] + S_0, 2)}\")"
   ]
  },
  {
   "cell_type": "markdown",
   "id": "226ed753-6b32-4d8d-8741-05a109c2ec34",
   "metadata": {},
   "source": [
    "| Strike price | Price call | Price put | LHS | RHS |\n",
    "|---| --- | --- | --- | --- | \n",
    "| 60 | 40.75 | 0.0 | 100.0 | 100.0 |\n",
    "| 80 | 21.02 | 0.03 | 100.03 | 100.03 |\n",
    "| 100 | 4.61 | 3.36 | 103.37 | 103.36 |\n",
    "| 120 | 0.2 | 18.71 | 118.71 | 118.71 |\n",
    "| 140 | 0.0 | 38.26 | 138.26 | 138.26 |\n",
    "\n",
    "We can see the put-call parity hold for the European option, because the payoff of the two portfolios will end same however the strike price move up or down .\n"
   ]
  },
  {
   "cell_type": "markdown",
   "id": "85c6588d-61ea-4df2-841a-8701b9a674c1",
   "metadata": {},
   "source": [
    "<div style=\"page-break-after: always;\"></div>\n",
    "\n",
    "#### 24. For the 5 strikes that your group member computed in Q17 and Q18, check whether put-call parity holds (within sensible rounding). Briefly comment on the reasons why/why not this is the case."
   ]
  },
  {
   "cell_type": "code",
   "execution_count": 28,
   "id": "c0e7ea39-95b0-4ecb-b9a8-32ee514144a2",
   "metadata": {},
   "outputs": [
    {
     "name": "stdout",
     "output_type": "stream",
     "text": [
      "LHS: 100.0     RHS: 100.0\n",
      "LHS: 100.03     RHS: 100.03\n",
      "LHS: 103.37     RHS: 103.47\n",
      "LHS: 118.71     RHS: 120.0\n",
      "LHS: 138.26     RHS: 140.0\n"
     ]
    }
   ],
   "source": [
    "strikes = [60, 80, 100, 120, 140]\n",
    "\n",
    "for i in range(5):\n",
    "    print(f\"LHS: {np.round(am_call_price_list[-i-1] + strikes[i] * np.exp(-r*T), 2)} \\\n",
    "    RHS: {np.round(am_put_price_list[i] + S_0, 2)}\")"
   ]
  },
  {
   "cell_type": "markdown",
   "id": "306dd76b-3a05-4bc9-83ba-70dca602e69f",
   "metadata": {},
   "source": [
    "| Strike price | Price call | Price put | LHS | RHS |\n",
    "|---| --- | --- | --- | --- | \n",
    "| 60 | 40.75 | 0.0 | 100.0 | 100.0 |\n",
    "| 80 | 21.02 | 0.03 | 100.03 | 100.03 |\n",
    "| 100 | 4.61 | 3.36 | 103.37 | 103.47 |\n",
    "| 120 | 0.2 | 18.71 | 118.71 | 120.0 |\n",
    "| 140 | 0.0 | 38.26 | 138.26 | 140.0 |\n",
    "\n",
    "We note that the American put price exceeds the price of the European put option, so there is a motive for early exercise when it is deep in the money and the discount factor reduces volatility.\n"
   ]
  },
  {
   "cell_type": "markdown",
   "id": "82ce6edb",
   "metadata": {},
   "source": [
    "## Step 3\n",
    "\n",
    "#### 25.Dynamic Delta Hedging.\n",
    "$\n",
    "\\begin{align}\n",
    "\\hspace{1cm}S_0 &= 180 \\nonumber \\\\\n",
    "\\hspace{1cm}r &= 2\\% \\nonumber \\\\\n",
    "\\hspace{1cm}\\sigma &= 25\\% \\nonumber \\\\\n",
    "\\hspace{1cm}T &= 6 months \\nonumber \\\\\n",
    "\\hspace{1cm}K &= 182 \\nonumber \\\\\n",
    "\\end{align}\n",
    "$"
   ]
  },
  {
   "cell_type": "markdown",
   "id": "31a35b66",
   "metadata": {},
   "source": [
    "##### a. Price a European Put option with the previous characteristics using a 3-step binomial tree (you do not need code for this)."
   ]
  },
  {
   "cell_type": "code",
   "execution_count": 29,
   "id": "779e0e9f",
   "metadata": {},
   "outputs": [],
   "source": [
    "S_0 = 180\n",
    "r = 0.02\n",
    "sigma = 0.25\n",
    "N = 3\n",
    "T = 6/12\n",
    "K = 182"
   ]
  },
  {
   "cell_type": "code",
   "execution_count": 30,
   "id": "331ec0e9",
   "metadata": {},
   "outputs": [
    {
     "name": "stdout",
     "output_type": "stream",
     "text": [
      "u = 1.1075 \n",
      "d = 0.903 \n",
      "p = 0.4906547436033047\n"
     ]
    }
   ],
   "source": [
    "u = np.round(np.exp(sigma * np.sqrt(T/N)), 4)\n",
    "d = np.round(np.exp(-sigma * np.sqrt(T/N)), 4)\n",
    "p = (np.exp(r*T/N) - d) / (u - d)\n",
    "\n",
    "print(f\"u = {u} \\nd = {d} \\np = {p}\")"
   ]
  },
  {
   "cell_type": "markdown",
   "id": "3fcf4b1b",
   "metadata": {},
   "source": [
    "**Evolution of the put option**"
   ]
  },
  {
   "cell_type": "code",
   "execution_count": 31,
   "id": "6753f38e",
   "metadata": {},
   "outputs": [],
   "source": [
    "%load_ext nb_js_diagrammers"
   ]
  },
  {
   "cell_type": "code",
   "execution_count": 32,
   "id": "f51bbc07",
   "metadata": {},
   "outputs": [
    {
     "data": {
      "text/html": [
       "<iframe srcdoc=\"&lt;html&gt;\n",
       "    &lt;body&gt;\n",
       "        &lt;script src=&quot;https://cdn.jsdelivr.net/npm/mermaid/dist/mermaid.min.js&quot;&gt;&lt;/script&gt;\n",
       "        &lt;script&gt;\n",
       "            mermaid.initialize({ startOnLoad: true });\n",
       "        &lt;/script&gt;\n",
       " \n",
       "        &lt;div class=&quot;mermaid&quot;&gt;\n",
       "            \n",
       "graph LR;\n",
       "    S0[180] -- x 1.1075 &lt;sub&gt;u&lt;/sub&gt; --&gt; Su[199.34];\n",
       "    S0 -- x 0.903 &lt;sub&gt;d&lt;/sub&gt; --&gt; Sd[162.54];\n",
       "    Su -- x 1.1075 &lt;sub&gt;uu&lt;/sub&gt; --&gt; Suu[220.76];\n",
       "    Su -- x 0.903 &lt;sub&gt;ud&lt;/sub&gt; --&gt; Sud[180.00];\n",
       "    Sd -- x 1.1075 &lt;sub&gt;du&lt;/sub&gt; --&gt; Sud;\n",
       "    Sd -- x 0.903 &lt;sub&gt;dd&lt;/sub&gt; --&gt; Sdd[146.77];\n",
       "    Suu -- uuu --&gt; Suuu[244.48]\n",
       "    Suu -- uud --&gt; Suud[199.34]\n",
       "    Sud -- udu --&gt; Suud\n",
       "    Sud -- udd --&gt; Sudd[162.54]\n",
       "    Sdd -- ddu --&gt; Sudd\n",
       "    Sdd -- ddd --&gt; Sddd[132.52]\n",
       "\n",
       "        &lt;/div&gt;\n",
       " \n",
       "    &lt;/body&gt;\n",
       "&lt;/html&gt;\n",
       "\" width=\"100%\" height=\"350\"style=\"border:none !important;\" \"allowfullscreen\" \"webkitallowfullscreen\" \"mozallowfullscreen\"></iframe>"
      ],
      "text/plain": [
       "<nb_js_diagrammers.magics.JSDiagram at 0x158b9fc1610>"
      ]
     },
     "execution_count": 32,
     "metadata": {},
     "output_type": "execute_result"
    }
   ],
   "source": [
    "%%mermaid_magic -h 350\n",
    "\n",
    "graph LR;\n",
    "    S0[180] -- x 1.1075 <sub>u</sub> --> Su[199.34];\n",
    "    S0 -- x 0.903 <sub>d</sub> --> Sd[162.54];\n",
    "    Su -- x 1.1075 <sub>uu</sub> --> Suu[220.76];\n",
    "    Su -- x 0.903 <sub>ud</sub> --> Sud[180.00];\n",
    "    Sd -- x 1.1075 <sub>du</sub> --> Sud;\n",
    "    Sd -- x 0.903 <sub>dd</sub> --> Sdd[146.77];\n",
    "    Suu -- uuu --> Suuu[244.48]\n",
    "    Suu -- uud --> Suud[199.34]\n",
    "    Sud -- udu --> Suud\n",
    "    Sud -- udd --> Sudd[162.54]\n",
    "    Sdd -- ddu --> Sudd\n",
    "    Sdd -- ddd --> Sddd[132.52]"
   ]
  },
  {
   "cell_type": "markdown",
   "id": "3bdaa506",
   "metadata": {},
   "source": [
    "**Pay-off discounted to time zero**"
   ]
  },
  {
   "cell_type": "code",
   "execution_count": 33,
   "id": "6e25b689",
   "metadata": {},
   "outputs": [
    {
     "data": {
      "text/html": [
       "<iframe srcdoc=\"&lt;html&gt;\n",
       "    &lt;body&gt;\n",
       "        &lt;script src=&quot;https://cdn.jsdelivr.net/npm/mermaid/dist/mermaid.min.js&quot;&gt;&lt;/script&gt;\n",
       "        &lt;script&gt;\n",
       "            mermaid.initialize({ startOnLoad: true });\n",
       "        &lt;/script&gt;\n",
       " \n",
       "        &lt;div class=&quot;mermaid&quot;&gt;\n",
       "            \n",
       "graph LR;\n",
       "    A[13.82] --&gt; B[5.01];\n",
       "    A --&gt; C[22.41];\n",
       "    B --&gt; D[0];\n",
       "    B --&gt; E[9.88];\n",
       "    C --&gt; E;\n",
       "    C --&gt; F[34.63];\n",
       "    D --&gt; G[max 0, K-S&lt;sub&gt;uuu&lt;/sub&gt; = 0]\n",
       "    D --&gt; H[max 0, K-S&lt;sub&gt;udu&lt;/sub&gt; = 0]\n",
       "    E --&gt; H\n",
       "    E --&gt; J[max 0, K-S&lt;sub&gt;ddu&lt;/sub&gt; = 19.53]\n",
       "    F --&gt; J\n",
       "    F --&gt; pdd[max 0, K-S&lt;sub&gt;ddd&lt;/sub&gt; =  49.47]\n",
       "    \n",
       "\n",
       "        &lt;/div&gt;\n",
       " \n",
       "    &lt;/body&gt;\n",
       "&lt;/html&gt;\n",
       "\" width=\"100%\" height=\"350\"style=\"border:none !important;\" \"allowfullscreen\" \"webkitallowfullscreen\" \"mozallowfullscreen\"></iframe>"
      ],
      "text/plain": [
       "<nb_js_diagrammers.magics.JSDiagram at 0x158b9fc1c70>"
      ]
     },
     "execution_count": 33,
     "metadata": {},
     "output_type": "execute_result"
    }
   ],
   "source": [
    "%%mermaid_magic -h 350\n",
    "\n",
    "graph LR;\n",
    "    A[13.82] --> B[5.01];\n",
    "    A --> C[22.41];\n",
    "    B --> D[0];\n",
    "    B --> E[9.88];\n",
    "    C --> E;\n",
    "    C --> F[34.63];\n",
    "    D --> G[max 0, K-S<sub>uuu</sub> = 0]\n",
    "    D --> H[max 0, K-S<sub>udu</sub> = 0]\n",
    "    E --> H\n",
    "    E --> J[max 0, K-S<sub>ddu</sub> = 19.53]\n",
    "    F --> J\n",
    "    F --> pdd[max 0, K-S<sub>ddd</sub> =  49.47]\n",
    "    "
   ]
  },
  {
   "cell_type": "markdown",
   "id": "9186ef5c",
   "metadata": {},
   "source": [
    "The price of the European put is the value of the option discounted to time t = 0 by back propagation. From the above diagram, the value of the European Put is $p_0 = 13.82$"
   ]
  },
  {
   "cell_type": "markdown",
   "id": "697f8fcc",
   "metadata": {},
   "source": [
    "##### b. Pick one path in the tree. {u,d,d}\n",
    "\n",
    "i) Describe the Delta hedging process (how many units of the underlying you buy/sell, ...) of that path throughout each step if you act as the seller of the Put option.\n",
    "\n",
    "$\\hspace{1cm}\\large{\\Delta = \\frac{C_u - C_d}{S_u - S_d}}$"
   ]
  },
  {
   "cell_type": "code",
   "execution_count": 34,
   "id": "bd150df2",
   "metadata": {},
   "outputs": [
    {
     "data": {
      "text/html": [
       "<iframe srcdoc=\"&lt;html&gt;\n",
       "    &lt;body&gt;\n",
       "        &lt;script src=&quot;https://cdn.jsdelivr.net/npm/mermaid/dist/mermaid.min.js&quot;&gt;&lt;/script&gt;\n",
       "        &lt;script&gt;\n",
       "            mermaid.initialize({ startOnLoad: true });\n",
       "        &lt;/script&gt;\n",
       " \n",
       "        &lt;div class=&quot;mermaid&quot;&gt;\n",
       "            \n",
       "graph LR;\n",
       "    A[-0.47] --&gt; B[-0.24];\n",
       "    A --&gt; C[-0.74];\n",
       "    B --&gt; D[0];\n",
       "    B --&gt; E[-0.53];\n",
       "    C --&gt; E;\n",
       "    C --&gt; F[-1];\n",
       "\n",
       "        &lt;/div&gt;\n",
       " \n",
       "    &lt;/body&gt;\n",
       "&lt;/html&gt;\n",
       "\" width=\"100%\" height=\"250\"style=\"border:none !important;\" \"allowfullscreen\" \"webkitallowfullscreen\" \"mozallowfullscreen\"></iframe>"
      ],
      "text/plain": [
       "<nb_js_diagrammers.magics.JSDiagram at 0x158ba1ed280>"
      ]
     },
     "execution_count": 34,
     "metadata": {},
     "output_type": "execute_result"
    }
   ],
   "source": [
    "%%mermaid_magic -h 250\n",
    "\n",
    "graph LR;\n",
    "    A[-0.47] --> B[-0.24];\n",
    "    A --> C[-0.74];\n",
    "    B --> D[0];\n",
    "    B --> E[-0.53];\n",
    "    C --> E;\n",
    "    C --> F[-1];"
   ]
  },
  {
   "cell_type": "markdown",
   "id": "c30fe32e",
   "metadata": {},
   "source": [
    "ii) Make sure you include a table with how your cash account varies at each step . Also, assume you can buy fractions of the underlying asset shares."
   ]
  },
  {
   "cell_type": "markdown",
   "id": "093c27de-8f2a-4de0-93a1-7d3e5766b427",
   "metadata": {},
   "source": [
    "| | **Underlying stock price** | **Call option** | **$\\Delta$ hedge** | **Equation** | **Cummulative sum of cash account**|\n",
    "|--|--|--|--|--|--|\n",
    "| **N = 0** | 180.00 | 13.82 | -0.47 | 180 x 0.47 |84.60 |\n",
    "| **N = 1** | 199.34 | 5.01 | -0.24 | 84.60 x e<sup>r.dT</sup> + (0.24-0.47) x 199.34 |39.03 | \n",
    "| **N = 2** | 180.00 | 9.88 | -0.53 | 39.03 x e<sup>r.dT</sup> + (0.53-0.24) x 180.00 |91.36 |\n",
    "| **N = 3** | 162.54 | 19.46 | | 91.36 x e<sup>r.dT</sup> - (0.53 x 162.54) - 19.46 |-13.94 | \n",
    "\n",
    "Being a seller of the put-option, assuming the path is {u,d,d}, to Delta-hedge, \n",
    "\n",
    "* At step 0, I should short 0.47 shares of the underlying at 84.60 and lend the money to bank to generate risk-free returns. \n",
    "* At step 1, I should buy 0.23 shares (0.24-0.47) of the underlying. At this point, I would spend (0.24-0.47) x 199.34 = -45.85. Also, the money in bank would have compounded to 84.60 x e<sup>r.dT</sup> = 84.88. So the total would be 84.88 - 45.85 = 39.0\n",
    "* Similarly, at step 2, I would sell 0.30 shares (0.53-24) of the underlying. The cash account will have 91.36\n",
    "* Finally, at step 3, the money in previous step would have compounded to 91.66. The 0.53 shares that were sold must be bought back at (0.53 x 162.54 = 86.14). I must pay the pay-off of 19.46 to the owner of the option. So the total being (91.66 - 86.14 -19.46 = -13.94)\n",
    "* This 13.94 is the price of the put option."
   ]
  },
  {
   "cell_type": "markdown",
   "id": "361c2465-2e6d-4725-8023-752b32146a05",
   "metadata": {},
   "source": [
    "##### 26.Using the same data from Q25, price an American Put option. Still, assume you are acting as the seller of this put. Consider now 25 steps in the tree (do this via python code).\n",
    "\n",
    "**a. Compute the delta hedging needed at each node in each step.**"
   ]
  },
  {
   "cell_type": "code",
   "execution_count": 35,
   "id": "61344fa6-3fb6-48c2-b6f2-fc254b15ac35",
   "metadata": {},
   "outputs": [],
   "source": [
    "S_0 = 180\n",
    "r = 0.02\n",
    "sigma = 0.25\n",
    "N = 25\n",
    "T = 6/12\n",
    "K = 182"
   ]
  },
  {
   "cell_type": "code",
   "execution_count": 36,
   "id": "e107b6c5-6bba-4db5-b05e-a84b886a5085",
   "metadata": {},
   "outputs": [
    {
     "data": {
      "text/html": [
       "<div>\n",
       "<style scoped>\n",
       "    .dataframe tbody tr th:only-of-type {\n",
       "        vertical-align: middle;\n",
       "    }\n",
       "\n",
       "    .dataframe tbody tr th {\n",
       "        vertical-align: top;\n",
       "    }\n",
       "\n",
       "    .dataframe thead th {\n",
       "        text-align: right;\n",
       "    }\n",
       "</style>\n",
       "<table border=\"1\" class=\"dataframe\">\n",
       "  <thead>\n",
       "    <tr style=\"text-align: right;\">\n",
       "      <th></th>\n",
       "      <th>0</th>\n",
       "      <th>1</th>\n",
       "      <th>2</th>\n",
       "      <th>3</th>\n",
       "      <th>4</th>\n",
       "      <th>5</th>\n",
       "      <th>6</th>\n",
       "      <th>7</th>\n",
       "      <th>8</th>\n",
       "      <th>9</th>\n",
       "      <th>...</th>\n",
       "      <th>15</th>\n",
       "      <th>16</th>\n",
       "      <th>17</th>\n",
       "      <th>18</th>\n",
       "      <th>19</th>\n",
       "      <th>20</th>\n",
       "      <th>21</th>\n",
       "      <th>22</th>\n",
       "      <th>23</th>\n",
       "      <th>24</th>\n",
       "    </tr>\n",
       "  </thead>\n",
       "  <tbody>\n",
       "    <tr>\n",
       "      <th>0</th>\n",
       "      <td>-0.48</td>\n",
       "      <td>-0.40</td>\n",
       "      <td>-0.32</td>\n",
       "      <td>-0.24</td>\n",
       "      <td>-0.18</td>\n",
       "      <td>-0.12</td>\n",
       "      <td>-0.08</td>\n",
       "      <td>-0.04</td>\n",
       "      <td>-0.02</td>\n",
       "      <td>-0.01</td>\n",
       "      <td>...</td>\n",
       "      <td>0.00</td>\n",
       "      <td>0.00</td>\n",
       "      <td>0.00</td>\n",
       "      <td>0.00</td>\n",
       "      <td>0.00</td>\n",
       "      <td>0.00</td>\n",
       "      <td>0.00</td>\n",
       "      <td>0.00</td>\n",
       "      <td>0.00</td>\n",
       "      <td>0.00</td>\n",
       "    </tr>\n",
       "    <tr>\n",
       "      <th>1</th>\n",
       "      <td>0.00</td>\n",
       "      <td>-0.56</td>\n",
       "      <td>-0.48</td>\n",
       "      <td>-0.39</td>\n",
       "      <td>-0.31</td>\n",
       "      <td>-0.24</td>\n",
       "      <td>-0.17</td>\n",
       "      <td>-0.11</td>\n",
       "      <td>-0.07</td>\n",
       "      <td>-0.04</td>\n",
       "      <td>...</td>\n",
       "      <td>0.00</td>\n",
       "      <td>0.00</td>\n",
       "      <td>0.00</td>\n",
       "      <td>0.00</td>\n",
       "      <td>0.00</td>\n",
       "      <td>0.00</td>\n",
       "      <td>0.00</td>\n",
       "      <td>0.00</td>\n",
       "      <td>0.00</td>\n",
       "      <td>0.00</td>\n",
       "    </tr>\n",
       "    <tr>\n",
       "      <th>2</th>\n",
       "      <td>0.00</td>\n",
       "      <td>0.00</td>\n",
       "      <td>-0.65</td>\n",
       "      <td>-0.57</td>\n",
       "      <td>-0.48</td>\n",
       "      <td>-0.39</td>\n",
       "      <td>-0.31</td>\n",
       "      <td>-0.23</td>\n",
       "      <td>-0.16</td>\n",
       "      <td>-0.10</td>\n",
       "      <td>...</td>\n",
       "      <td>0.00</td>\n",
       "      <td>0.00</td>\n",
       "      <td>0.00</td>\n",
       "      <td>0.00</td>\n",
       "      <td>0.00</td>\n",
       "      <td>0.00</td>\n",
       "      <td>0.00</td>\n",
       "      <td>0.00</td>\n",
       "      <td>0.00</td>\n",
       "      <td>0.00</td>\n",
       "    </tr>\n",
       "    <tr>\n",
       "      <th>3</th>\n",
       "      <td>0.00</td>\n",
       "      <td>0.00</td>\n",
       "      <td>0.00</td>\n",
       "      <td>-0.73</td>\n",
       "      <td>-0.66</td>\n",
       "      <td>-0.57</td>\n",
       "      <td>-0.49</td>\n",
       "      <td>-0.39</td>\n",
       "      <td>-0.30</td>\n",
       "      <td>-0.22</td>\n",
       "      <td>...</td>\n",
       "      <td>-0.00</td>\n",
       "      <td>0.00</td>\n",
       "      <td>0.00</td>\n",
       "      <td>0.00</td>\n",
       "      <td>0.00</td>\n",
       "      <td>0.00</td>\n",
       "      <td>0.00</td>\n",
       "      <td>0.00</td>\n",
       "      <td>0.00</td>\n",
       "      <td>0.00</td>\n",
       "    </tr>\n",
       "    <tr>\n",
       "      <th>4</th>\n",
       "      <td>0.00</td>\n",
       "      <td>0.00</td>\n",
       "      <td>0.00</td>\n",
       "      <td>0.00</td>\n",
       "      <td>-0.81</td>\n",
       "      <td>-0.75</td>\n",
       "      <td>-0.67</td>\n",
       "      <td>-0.58</td>\n",
       "      <td>-0.49</td>\n",
       "      <td>-0.39</td>\n",
       "      <td>...</td>\n",
       "      <td>-0.01</td>\n",
       "      <td>-0.00</td>\n",
       "      <td>0.00</td>\n",
       "      <td>0.00</td>\n",
       "      <td>0.00</td>\n",
       "      <td>0.00</td>\n",
       "      <td>0.00</td>\n",
       "      <td>0.00</td>\n",
       "      <td>0.00</td>\n",
       "      <td>0.00</td>\n",
       "    </tr>\n",
       "    <tr>\n",
       "      <th>5</th>\n",
       "      <td>0.00</td>\n",
       "      <td>0.00</td>\n",
       "      <td>0.00</td>\n",
       "      <td>0.00</td>\n",
       "      <td>0.00</td>\n",
       "      <td>-0.88</td>\n",
       "      <td>-0.83</td>\n",
       "      <td>-0.76</td>\n",
       "      <td>-0.68</td>\n",
       "      <td>-0.59</td>\n",
       "      <td>...</td>\n",
       "      <td>-0.06</td>\n",
       "      <td>-0.02</td>\n",
       "      <td>-0.00</td>\n",
       "      <td>0.00</td>\n",
       "      <td>0.00</td>\n",
       "      <td>0.00</td>\n",
       "      <td>0.00</td>\n",
       "      <td>0.00</td>\n",
       "      <td>0.00</td>\n",
       "      <td>0.00</td>\n",
       "    </tr>\n",
       "    <tr>\n",
       "      <th>6</th>\n",
       "      <td>0.00</td>\n",
       "      <td>0.00</td>\n",
       "      <td>0.00</td>\n",
       "      <td>0.00</td>\n",
       "      <td>0.00</td>\n",
       "      <td>0.00</td>\n",
       "      <td>-0.94</td>\n",
       "      <td>-0.90</td>\n",
       "      <td>-0.84</td>\n",
       "      <td>-0.78</td>\n",
       "      <td>...</td>\n",
       "      <td>-0.17</td>\n",
       "      <td>-0.09</td>\n",
       "      <td>-0.04</td>\n",
       "      <td>-0.01</td>\n",
       "      <td>0.00</td>\n",
       "      <td>0.00</td>\n",
       "      <td>0.00</td>\n",
       "      <td>0.00</td>\n",
       "      <td>0.00</td>\n",
       "      <td>0.00</td>\n",
       "    </tr>\n",
       "    <tr>\n",
       "      <th>7</th>\n",
       "      <td>0.00</td>\n",
       "      <td>0.00</td>\n",
       "      <td>0.00</td>\n",
       "      <td>0.00</td>\n",
       "      <td>0.00</td>\n",
       "      <td>0.00</td>\n",
       "      <td>0.00</td>\n",
       "      <td>-0.98</td>\n",
       "      <td>-0.96</td>\n",
       "      <td>-0.91</td>\n",
       "      <td>...</td>\n",
       "      <td>-0.38</td>\n",
       "      <td>-0.26</td>\n",
       "      <td>-0.15</td>\n",
       "      <td>-0.07</td>\n",
       "      <td>-0.02</td>\n",
       "      <td>0.00</td>\n",
       "      <td>0.00</td>\n",
       "      <td>0.00</td>\n",
       "      <td>0.00</td>\n",
       "      <td>0.00</td>\n",
       "    </tr>\n",
       "    <tr>\n",
       "      <th>8</th>\n",
       "      <td>0.00</td>\n",
       "      <td>0.00</td>\n",
       "      <td>0.00</td>\n",
       "      <td>0.00</td>\n",
       "      <td>0.00</td>\n",
       "      <td>0.00</td>\n",
       "      <td>0.00</td>\n",
       "      <td>0.00</td>\n",
       "      <td>-1.00</td>\n",
       "      <td>-0.99</td>\n",
       "      <td>...</td>\n",
       "      <td>-0.63</td>\n",
       "      <td>-0.51</td>\n",
       "      <td>-0.38</td>\n",
       "      <td>-0.24</td>\n",
       "      <td>-0.12</td>\n",
       "      <td>-0.04</td>\n",
       "      <td>0.00</td>\n",
       "      <td>0.00</td>\n",
       "      <td>0.00</td>\n",
       "      <td>0.00</td>\n",
       "    </tr>\n",
       "    <tr>\n",
       "      <th>9</th>\n",
       "      <td>0.00</td>\n",
       "      <td>0.00</td>\n",
       "      <td>0.00</td>\n",
       "      <td>0.00</td>\n",
       "      <td>0.00</td>\n",
       "      <td>0.00</td>\n",
       "      <td>0.00</td>\n",
       "      <td>0.00</td>\n",
       "      <td>0.00</td>\n",
       "      <td>-1.00</td>\n",
       "      <td>...</td>\n",
       "      <td>-0.85</td>\n",
       "      <td>-0.76</td>\n",
       "      <td>-0.66</td>\n",
       "      <td>-0.52</td>\n",
       "      <td>-0.37</td>\n",
       "      <td>-0.21</td>\n",
       "      <td>-0.07</td>\n",
       "      <td>0.00</td>\n",
       "      <td>0.00</td>\n",
       "      <td>0.00</td>\n",
       "    </tr>\n",
       "    <tr>\n",
       "      <th>10</th>\n",
       "      <td>0.00</td>\n",
       "      <td>0.00</td>\n",
       "      <td>0.00</td>\n",
       "      <td>0.00</td>\n",
       "      <td>0.00</td>\n",
       "      <td>0.00</td>\n",
       "      <td>0.00</td>\n",
       "      <td>0.00</td>\n",
       "      <td>0.00</td>\n",
       "      <td>0.00</td>\n",
       "      <td>...</td>\n",
       "      <td>-0.97</td>\n",
       "      <td>-0.93</td>\n",
       "      <td>-0.88</td>\n",
       "      <td>-0.80</td>\n",
       "      <td>-0.69</td>\n",
       "      <td>-0.54</td>\n",
       "      <td>-0.35</td>\n",
       "      <td>-0.15</td>\n",
       "      <td>0.00</td>\n",
       "      <td>0.00</td>\n",
       "    </tr>\n",
       "    <tr>\n",
       "      <th>11</th>\n",
       "      <td>0.00</td>\n",
       "      <td>0.00</td>\n",
       "      <td>0.00</td>\n",
       "      <td>0.00</td>\n",
       "      <td>0.00</td>\n",
       "      <td>0.00</td>\n",
       "      <td>0.00</td>\n",
       "      <td>0.00</td>\n",
       "      <td>0.00</td>\n",
       "      <td>0.00</td>\n",
       "      <td>...</td>\n",
       "      <td>-1.00</td>\n",
       "      <td>-1.00</td>\n",
       "      <td>-0.99</td>\n",
       "      <td>-0.96</td>\n",
       "      <td>-0.91</td>\n",
       "      <td>-0.85</td>\n",
       "      <td>-0.73</td>\n",
       "      <td>-0.56</td>\n",
       "      <td>-0.31</td>\n",
       "      <td>0.00</td>\n",
       "    </tr>\n",
       "    <tr>\n",
       "      <th>12</th>\n",
       "      <td>0.00</td>\n",
       "      <td>0.00</td>\n",
       "      <td>0.00</td>\n",
       "      <td>0.00</td>\n",
       "      <td>0.00</td>\n",
       "      <td>0.00</td>\n",
       "      <td>0.00</td>\n",
       "      <td>0.00</td>\n",
       "      <td>0.00</td>\n",
       "      <td>0.00</td>\n",
       "      <td>...</td>\n",
       "      <td>-1.00</td>\n",
       "      <td>-1.00</td>\n",
       "      <td>-1.00</td>\n",
       "      <td>-1.00</td>\n",
       "      <td>-1.00</td>\n",
       "      <td>-0.99</td>\n",
       "      <td>-0.96</td>\n",
       "      <td>-0.92</td>\n",
       "      <td>-0.82</td>\n",
       "      <td>-0.65</td>\n",
       "    </tr>\n",
       "    <tr>\n",
       "      <th>13</th>\n",
       "      <td>0.00</td>\n",
       "      <td>0.00</td>\n",
       "      <td>0.00</td>\n",
       "      <td>0.00</td>\n",
       "      <td>0.00</td>\n",
       "      <td>0.00</td>\n",
       "      <td>0.00</td>\n",
       "      <td>0.00</td>\n",
       "      <td>0.00</td>\n",
       "      <td>0.00</td>\n",
       "      <td>...</td>\n",
       "      <td>-1.00</td>\n",
       "      <td>-1.00</td>\n",
       "      <td>-1.00</td>\n",
       "      <td>-1.00</td>\n",
       "      <td>-1.00</td>\n",
       "      <td>-1.00</td>\n",
       "      <td>-1.00</td>\n",
       "      <td>-1.00</td>\n",
       "      <td>-1.00</td>\n",
       "      <td>-1.00</td>\n",
       "    </tr>\n",
       "    <tr>\n",
       "      <th>14</th>\n",
       "      <td>0.00</td>\n",
       "      <td>0.00</td>\n",
       "      <td>0.00</td>\n",
       "      <td>0.00</td>\n",
       "      <td>0.00</td>\n",
       "      <td>0.00</td>\n",
       "      <td>0.00</td>\n",
       "      <td>0.00</td>\n",
       "      <td>0.00</td>\n",
       "      <td>0.00</td>\n",
       "      <td>...</td>\n",
       "      <td>-1.00</td>\n",
       "      <td>-1.00</td>\n",
       "      <td>-1.00</td>\n",
       "      <td>-1.00</td>\n",
       "      <td>-1.00</td>\n",
       "      <td>-1.00</td>\n",
       "      <td>-1.00</td>\n",
       "      <td>-1.00</td>\n",
       "      <td>-1.00</td>\n",
       "      <td>-1.00</td>\n",
       "    </tr>\n",
       "    <tr>\n",
       "      <th>15</th>\n",
       "      <td>0.00</td>\n",
       "      <td>0.00</td>\n",
       "      <td>0.00</td>\n",
       "      <td>0.00</td>\n",
       "      <td>0.00</td>\n",
       "      <td>0.00</td>\n",
       "      <td>0.00</td>\n",
       "      <td>0.00</td>\n",
       "      <td>0.00</td>\n",
       "      <td>0.00</td>\n",
       "      <td>...</td>\n",
       "      <td>-1.00</td>\n",
       "      <td>-1.00</td>\n",
       "      <td>-1.00</td>\n",
       "      <td>-1.00</td>\n",
       "      <td>-1.00</td>\n",
       "      <td>-1.00</td>\n",
       "      <td>-1.00</td>\n",
       "      <td>-1.00</td>\n",
       "      <td>-1.00</td>\n",
       "      <td>-1.00</td>\n",
       "    </tr>\n",
       "    <tr>\n",
       "      <th>16</th>\n",
       "      <td>0.00</td>\n",
       "      <td>0.00</td>\n",
       "      <td>0.00</td>\n",
       "      <td>0.00</td>\n",
       "      <td>0.00</td>\n",
       "      <td>0.00</td>\n",
       "      <td>0.00</td>\n",
       "      <td>0.00</td>\n",
       "      <td>0.00</td>\n",
       "      <td>0.00</td>\n",
       "      <td>...</td>\n",
       "      <td>0.00</td>\n",
       "      <td>-1.00</td>\n",
       "      <td>-1.00</td>\n",
       "      <td>-1.00</td>\n",
       "      <td>-1.00</td>\n",
       "      <td>-1.00</td>\n",
       "      <td>-1.00</td>\n",
       "      <td>-1.00</td>\n",
       "      <td>-1.00</td>\n",
       "      <td>-1.00</td>\n",
       "    </tr>\n",
       "    <tr>\n",
       "      <th>17</th>\n",
       "      <td>0.00</td>\n",
       "      <td>0.00</td>\n",
       "      <td>0.00</td>\n",
       "      <td>0.00</td>\n",
       "      <td>0.00</td>\n",
       "      <td>0.00</td>\n",
       "      <td>0.00</td>\n",
       "      <td>0.00</td>\n",
       "      <td>0.00</td>\n",
       "      <td>0.00</td>\n",
       "      <td>...</td>\n",
       "      <td>0.00</td>\n",
       "      <td>0.00</td>\n",
       "      <td>-1.00</td>\n",
       "      <td>-1.00</td>\n",
       "      <td>-1.00</td>\n",
       "      <td>-1.00</td>\n",
       "      <td>-1.00</td>\n",
       "      <td>-1.00</td>\n",
       "      <td>-1.00</td>\n",
       "      <td>-1.00</td>\n",
       "    </tr>\n",
       "    <tr>\n",
       "      <th>18</th>\n",
       "      <td>0.00</td>\n",
       "      <td>0.00</td>\n",
       "      <td>0.00</td>\n",
       "      <td>0.00</td>\n",
       "      <td>0.00</td>\n",
       "      <td>0.00</td>\n",
       "      <td>0.00</td>\n",
       "      <td>0.00</td>\n",
       "      <td>0.00</td>\n",
       "      <td>0.00</td>\n",
       "      <td>...</td>\n",
       "      <td>0.00</td>\n",
       "      <td>0.00</td>\n",
       "      <td>0.00</td>\n",
       "      <td>-1.00</td>\n",
       "      <td>-1.00</td>\n",
       "      <td>-1.00</td>\n",
       "      <td>-1.00</td>\n",
       "      <td>-1.00</td>\n",
       "      <td>-1.00</td>\n",
       "      <td>-1.00</td>\n",
       "    </tr>\n",
       "    <tr>\n",
       "      <th>19</th>\n",
       "      <td>0.00</td>\n",
       "      <td>0.00</td>\n",
       "      <td>0.00</td>\n",
       "      <td>0.00</td>\n",
       "      <td>0.00</td>\n",
       "      <td>0.00</td>\n",
       "      <td>0.00</td>\n",
       "      <td>0.00</td>\n",
       "      <td>0.00</td>\n",
       "      <td>0.00</td>\n",
       "      <td>...</td>\n",
       "      <td>0.00</td>\n",
       "      <td>0.00</td>\n",
       "      <td>0.00</td>\n",
       "      <td>0.00</td>\n",
       "      <td>-1.00</td>\n",
       "      <td>-1.00</td>\n",
       "      <td>-1.00</td>\n",
       "      <td>-1.00</td>\n",
       "      <td>-1.00</td>\n",
       "      <td>-1.00</td>\n",
       "    </tr>\n",
       "    <tr>\n",
       "      <th>20</th>\n",
       "      <td>0.00</td>\n",
       "      <td>0.00</td>\n",
       "      <td>0.00</td>\n",
       "      <td>0.00</td>\n",
       "      <td>0.00</td>\n",
       "      <td>0.00</td>\n",
       "      <td>0.00</td>\n",
       "      <td>0.00</td>\n",
       "      <td>0.00</td>\n",
       "      <td>0.00</td>\n",
       "      <td>...</td>\n",
       "      <td>0.00</td>\n",
       "      <td>0.00</td>\n",
       "      <td>0.00</td>\n",
       "      <td>0.00</td>\n",
       "      <td>0.00</td>\n",
       "      <td>-1.00</td>\n",
       "      <td>-1.00</td>\n",
       "      <td>-1.00</td>\n",
       "      <td>-1.00</td>\n",
       "      <td>-1.00</td>\n",
       "    </tr>\n",
       "    <tr>\n",
       "      <th>21</th>\n",
       "      <td>0.00</td>\n",
       "      <td>0.00</td>\n",
       "      <td>0.00</td>\n",
       "      <td>0.00</td>\n",
       "      <td>0.00</td>\n",
       "      <td>0.00</td>\n",
       "      <td>0.00</td>\n",
       "      <td>0.00</td>\n",
       "      <td>0.00</td>\n",
       "      <td>0.00</td>\n",
       "      <td>...</td>\n",
       "      <td>0.00</td>\n",
       "      <td>0.00</td>\n",
       "      <td>0.00</td>\n",
       "      <td>0.00</td>\n",
       "      <td>0.00</td>\n",
       "      <td>0.00</td>\n",
       "      <td>-1.00</td>\n",
       "      <td>-1.00</td>\n",
       "      <td>-1.00</td>\n",
       "      <td>-1.00</td>\n",
       "    </tr>\n",
       "    <tr>\n",
       "      <th>22</th>\n",
       "      <td>0.00</td>\n",
       "      <td>0.00</td>\n",
       "      <td>0.00</td>\n",
       "      <td>0.00</td>\n",
       "      <td>0.00</td>\n",
       "      <td>0.00</td>\n",
       "      <td>0.00</td>\n",
       "      <td>0.00</td>\n",
       "      <td>0.00</td>\n",
       "      <td>0.00</td>\n",
       "      <td>...</td>\n",
       "      <td>0.00</td>\n",
       "      <td>0.00</td>\n",
       "      <td>0.00</td>\n",
       "      <td>0.00</td>\n",
       "      <td>0.00</td>\n",
       "      <td>0.00</td>\n",
       "      <td>0.00</td>\n",
       "      <td>-1.00</td>\n",
       "      <td>-1.00</td>\n",
       "      <td>-1.00</td>\n",
       "    </tr>\n",
       "    <tr>\n",
       "      <th>23</th>\n",
       "      <td>0.00</td>\n",
       "      <td>0.00</td>\n",
       "      <td>0.00</td>\n",
       "      <td>0.00</td>\n",
       "      <td>0.00</td>\n",
       "      <td>0.00</td>\n",
       "      <td>0.00</td>\n",
       "      <td>0.00</td>\n",
       "      <td>0.00</td>\n",
       "      <td>0.00</td>\n",
       "      <td>...</td>\n",
       "      <td>0.00</td>\n",
       "      <td>0.00</td>\n",
       "      <td>0.00</td>\n",
       "      <td>0.00</td>\n",
       "      <td>0.00</td>\n",
       "      <td>0.00</td>\n",
       "      <td>0.00</td>\n",
       "      <td>0.00</td>\n",
       "      <td>-1.00</td>\n",
       "      <td>-1.00</td>\n",
       "    </tr>\n",
       "    <tr>\n",
       "      <th>24</th>\n",
       "      <td>0.00</td>\n",
       "      <td>0.00</td>\n",
       "      <td>0.00</td>\n",
       "      <td>0.00</td>\n",
       "      <td>0.00</td>\n",
       "      <td>0.00</td>\n",
       "      <td>0.00</td>\n",
       "      <td>0.00</td>\n",
       "      <td>0.00</td>\n",
       "      <td>0.00</td>\n",
       "      <td>...</td>\n",
       "      <td>0.00</td>\n",
       "      <td>0.00</td>\n",
       "      <td>0.00</td>\n",
       "      <td>0.00</td>\n",
       "      <td>0.00</td>\n",
       "      <td>0.00</td>\n",
       "      <td>0.00</td>\n",
       "      <td>0.00</td>\n",
       "      <td>0.00</td>\n",
       "      <td>-1.00</td>\n",
       "    </tr>\n",
       "  </tbody>\n",
       "</table>\n",
       "<p>25 rows × 25 columns</p>\n",
       "</div>"
      ],
      "text/plain": [
       "      0     1     2     3     4     5     6     7     8     9   ...    15  \\\n",
       "0  -0.48 -0.40 -0.32 -0.24 -0.18 -0.12 -0.08 -0.04 -0.02 -0.01  ...  0.00   \n",
       "1   0.00 -0.56 -0.48 -0.39 -0.31 -0.24 -0.17 -0.11 -0.07 -0.04  ...  0.00   \n",
       "2   0.00  0.00 -0.65 -0.57 -0.48 -0.39 -0.31 -0.23 -0.16 -0.10  ...  0.00   \n",
       "3   0.00  0.00  0.00 -0.73 -0.66 -0.57 -0.49 -0.39 -0.30 -0.22  ... -0.00   \n",
       "4   0.00  0.00  0.00  0.00 -0.81 -0.75 -0.67 -0.58 -0.49 -0.39  ... -0.01   \n",
       "5   0.00  0.00  0.00  0.00  0.00 -0.88 -0.83 -0.76 -0.68 -0.59  ... -0.06   \n",
       "6   0.00  0.00  0.00  0.00  0.00  0.00 -0.94 -0.90 -0.84 -0.78  ... -0.17   \n",
       "7   0.00  0.00  0.00  0.00  0.00  0.00  0.00 -0.98 -0.96 -0.91  ... -0.38   \n",
       "8   0.00  0.00  0.00  0.00  0.00  0.00  0.00  0.00 -1.00 -0.99  ... -0.63   \n",
       "9   0.00  0.00  0.00  0.00  0.00  0.00  0.00  0.00  0.00 -1.00  ... -0.85   \n",
       "10  0.00  0.00  0.00  0.00  0.00  0.00  0.00  0.00  0.00  0.00  ... -0.97   \n",
       "11  0.00  0.00  0.00  0.00  0.00  0.00  0.00  0.00  0.00  0.00  ... -1.00   \n",
       "12  0.00  0.00  0.00  0.00  0.00  0.00  0.00  0.00  0.00  0.00  ... -1.00   \n",
       "13  0.00  0.00  0.00  0.00  0.00  0.00  0.00  0.00  0.00  0.00  ... -1.00   \n",
       "14  0.00  0.00  0.00  0.00  0.00  0.00  0.00  0.00  0.00  0.00  ... -1.00   \n",
       "15  0.00  0.00  0.00  0.00  0.00  0.00  0.00  0.00  0.00  0.00  ... -1.00   \n",
       "16  0.00  0.00  0.00  0.00  0.00  0.00  0.00  0.00  0.00  0.00  ...  0.00   \n",
       "17  0.00  0.00  0.00  0.00  0.00  0.00  0.00  0.00  0.00  0.00  ...  0.00   \n",
       "18  0.00  0.00  0.00  0.00  0.00  0.00  0.00  0.00  0.00  0.00  ...  0.00   \n",
       "19  0.00  0.00  0.00  0.00  0.00  0.00  0.00  0.00  0.00  0.00  ...  0.00   \n",
       "20  0.00  0.00  0.00  0.00  0.00  0.00  0.00  0.00  0.00  0.00  ...  0.00   \n",
       "21  0.00  0.00  0.00  0.00  0.00  0.00  0.00  0.00  0.00  0.00  ...  0.00   \n",
       "22  0.00  0.00  0.00  0.00  0.00  0.00  0.00  0.00  0.00  0.00  ...  0.00   \n",
       "23  0.00  0.00  0.00  0.00  0.00  0.00  0.00  0.00  0.00  0.00  ...  0.00   \n",
       "24  0.00  0.00  0.00  0.00  0.00  0.00  0.00  0.00  0.00  0.00  ...  0.00   \n",
       "\n",
       "      16    17    18    19    20    21    22    23    24  \n",
       "0   0.00  0.00  0.00  0.00  0.00  0.00  0.00  0.00  0.00  \n",
       "1   0.00  0.00  0.00  0.00  0.00  0.00  0.00  0.00  0.00  \n",
       "2   0.00  0.00  0.00  0.00  0.00  0.00  0.00  0.00  0.00  \n",
       "3   0.00  0.00  0.00  0.00  0.00  0.00  0.00  0.00  0.00  \n",
       "4  -0.00  0.00  0.00  0.00  0.00  0.00  0.00  0.00  0.00  \n",
       "5  -0.02 -0.00  0.00  0.00  0.00  0.00  0.00  0.00  0.00  \n",
       "6  -0.09 -0.04 -0.01  0.00  0.00  0.00  0.00  0.00  0.00  \n",
       "7  -0.26 -0.15 -0.07 -0.02  0.00  0.00  0.00  0.00  0.00  \n",
       "8  -0.51 -0.38 -0.24 -0.12 -0.04  0.00  0.00  0.00  0.00  \n",
       "9  -0.76 -0.66 -0.52 -0.37 -0.21 -0.07  0.00  0.00  0.00  \n",
       "10 -0.93 -0.88 -0.80 -0.69 -0.54 -0.35 -0.15  0.00  0.00  \n",
       "11 -1.00 -0.99 -0.96 -0.91 -0.85 -0.73 -0.56 -0.31  0.00  \n",
       "12 -1.00 -1.00 -1.00 -1.00 -0.99 -0.96 -0.92 -0.82 -0.65  \n",
       "13 -1.00 -1.00 -1.00 -1.00 -1.00 -1.00 -1.00 -1.00 -1.00  \n",
       "14 -1.00 -1.00 -1.00 -1.00 -1.00 -1.00 -1.00 -1.00 -1.00  \n",
       "15 -1.00 -1.00 -1.00 -1.00 -1.00 -1.00 -1.00 -1.00 -1.00  \n",
       "16 -1.00 -1.00 -1.00 -1.00 -1.00 -1.00 -1.00 -1.00 -1.00  \n",
       "17  0.00 -1.00 -1.00 -1.00 -1.00 -1.00 -1.00 -1.00 -1.00  \n",
       "18  0.00  0.00 -1.00 -1.00 -1.00 -1.00 -1.00 -1.00 -1.00  \n",
       "19  0.00  0.00  0.00 -1.00 -1.00 -1.00 -1.00 -1.00 -1.00  \n",
       "20  0.00  0.00  0.00  0.00 -1.00 -1.00 -1.00 -1.00 -1.00  \n",
       "21  0.00  0.00  0.00  0.00  0.00 -1.00 -1.00 -1.00 -1.00  \n",
       "22  0.00  0.00  0.00  0.00  0.00  0.00 -1.00 -1.00 -1.00  \n",
       "23  0.00  0.00  0.00  0.00  0.00  0.00  0.00 -1.00 -1.00  \n",
       "24  0.00  0.00  0.00  0.00  0.00  0.00  0.00  0.00 -1.00  \n",
       "\n",
       "[25 rows x 25 columns]"
      ]
     },
     "execution_count": 36,
     "metadata": {},
     "output_type": "execute_result"
    }
   ],
   "source": [
    "import pandas as pd\n",
    "\n",
    "price, evolution, option_price, delta = OptionPricing(S_0, K, sigma, T, N, r, \"put\", \"American\").binomial_pricing()\n",
    "\n",
    "pd.DataFrame(delta)"
   ]
  },
  {
   "cell_type": "markdown",
   "id": "f5203dc7-2e7c-45c5-83fc-cae76439bf74",
   "metadata": {},
   "source": [
    "<div style=\"page-break-after: always;\"></div>\n",
    "\n",
    "**b. Show the evolution of the cash-account throughout the different steps for one path of your choice.**\n",
    "\n",
    "Let the path be {u,u,u....,u}"
   ]
  },
  {
   "cell_type": "code",
   "execution_count": 37,
   "id": "fcad5b10-665f-4578-abc4-d9e0934d23ff",
   "metadata": {},
   "outputs": [
    {
     "name": "stdout",
     "output_type": "stream",
     "text": [
      "Cash account evolution following path (u,u,u,...,u) : \n",
      " [ 86.4   71.45  55.96  39.93  27.47  14.57   5.67  -3.56  -8.33 -10.8\n",
      " -13.36 -13.36 -13.35 -13.35 -13.34 -13.34 -13.33 -13.33 -13.32 -13.32\n",
      " -13.31 -13.3  -13.3  -13.29 -13.29]\n"
     ]
    }
   ],
   "source": [
    "cash_account_evolution = []\n",
    "\n",
    "for i in range(len(delta[0])):\n",
    "    if i == 0:\n",
    "        cash_account_evolution.append(delta[0][i] * -evolution[0][i])\n",
    "    else:\n",
    "        cash_account_evolution.append((cash_account_evolution[i-1]*np.exp(-r*T/N)) + (delta[0][i] - delta[0][i-1])*-evolution[0][i])\n",
    "        \n",
    "print(f\"Cash account evolution following path (u,u,u,...,u) : \\n {np.round(cash_account_evolution, 2)}\")"
   ]
  },
  {
   "cell_type": "markdown",
   "id": "8c32f802-da5c-41e4-85d1-28b8e8011230",
   "metadata": {},
   "source": [
    "**c. Comment on the Delta Hedging process as compared to the European option case**\n",
    "\n",
    "In an American option, because of the ability to excercise the option at any time before expiration, the evolution of the prices are more closely monitored (with increased number of steps) and the hedging is adjusted more frequently than a European option."
   ]
  },
  {
   "cell_type": "markdown",
   "id": "9bf0b5b6-f96f-4f4d-bce8-fb84bf6dc333",
   "metadata": {},
   "source": [
    "#### 27.Finally, repeat Q26 considering now an Asian ATM Put option. Comment on your results as compared to the regular American Put option case of Q25."
   ]
  },
  {
   "cell_type": "code",
   "execution_count": 38,
   "id": "51d65192-7b45-471a-a95e-e814e260d43b",
   "metadata": {},
   "outputs": [],
   "source": [
    "S_0 = 180\n",
    "r = 0.02\n",
    "sigma = 0.25\n",
    "N = 25\n",
    "T = 6/12\n",
    "K = 180"
   ]
  },
  {
   "cell_type": "code",
   "execution_count": 39,
   "id": "0be546c7-fea3-416d-b915-330ccd5bcb59",
   "metadata": {},
   "outputs": [],
   "source": [
    "payoff = OptionPricing(S_0, K, sigma, T, N, r, \"put\", \"Asian\").binomial_pricing()[0]"
   ]
  },
  {
   "cell_type": "code",
   "execution_count": 40,
   "id": "878c33e1-f177-428e-afd8-8f3d25b4bdc5",
   "metadata": {},
   "outputs": [
    {
     "name": "stdout",
     "output_type": "stream",
     "text": [
      "Payoff at the end node computed with Asian style with 25 steps: \n",
      "[ 0.    0.    0.    0.    0.    0.    0.    0.    1.92 10.37 17.9  24.58\n",
      " 30.49 35.68 40.22 44.16 47.56 50.45 52.89 54.91 56.56 57.85 58.84 59.54\n",
      " 59.98 60.19]\n"
     ]
    }
   ],
   "source": [
    "print(f\"Payoff at the end node computed with Asian style with 25 steps: \\n{payoff}\")"
   ]
  }
 ],
 "metadata": {
  "hide_input": false,
  "kernelspec": {
   "display_name": "Python 3 (ipykernel)",
   "language": "python",
   "name": "python3"
  },
  "language_info": {
   "codemirror_mode": {
    "name": "ipython",
    "version": 3
   },
   "file_extension": ".py",
   "mimetype": "text/x-python",
   "name": "python",
   "nbconvert_exporter": "python",
   "pygments_lexer": "ipython3",
   "version": "3.9.13"
  },
  "toc": {
   "base_numbering": 1,
   "nav_menu": {},
   "number_sections": true,
   "sideBar": true,
   "skip_h1_title": true,
   "title_cell": "Table of Contents",
   "title_sidebar": "Contents",
   "toc_cell": true,
   "toc_position": {
    "height": "calc(100% - 180px)",
    "left": "10px",
    "top": "150px",
    "width": "465.455px"
   },
   "toc_section_display": true,
   "toc_window_display": true
  }
 },
 "nbformat": 4,
 "nbformat_minor": 5
}
