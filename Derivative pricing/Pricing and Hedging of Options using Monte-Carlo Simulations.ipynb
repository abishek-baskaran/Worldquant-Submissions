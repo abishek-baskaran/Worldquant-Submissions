{
 "cells": [
  {
   "cell_type": "code",
   "execution_count": 1,
   "id": "73b2dd03-3313-43a7-ae3f-cae75a34cbb2",
   "metadata": {},
   "outputs": [],
   "source": [
    "import numpy as np\n",
    "import matplotlib.pyplot as plt\n",
    "from scipy.stats import norm\n",
    "\n",
    "\n",
    "class OptionPricing:\n",
    "    \n",
    "    '''\n",
    "    A class that computes the option price of European options using Black-Sholes, European and American options \n",
    "    using Monte-Carlo simulation, Greeks Delta and Vega.\n",
    "    \n",
    "    parameters:\n",
    "    -----------\n",
    "    S_0: Value of the underlying asset\n",
    "    K: Strike price\n",
    "    sigma: Volatility of the underlying asset\n",
    "    r: risk-free rate of interest\n",
    "    T: Time to maturity (in years)\n",
    "    option_type: \n",
    "            values: call / put\n",
    "    option_style:\n",
    "            values: European / American\n",
    "            \n",
    "    Methods:\n",
    "    --------\n",
    "    compute_black_scholes():\n",
    "            Computes the price of European option using Black-Scholes closed form solution.\n",
    "    \n",
    "    compute_monte_carlo(iterations, uao, uai):\n",
    "            Computes the price of European / American option by simulating the asset price over daily time period\n",
    "            with specified number of iterations.\n",
    "            \n",
    "            parameters:\n",
    "            -----------\n",
    "            iterations: Number of Monte-Carlo simulations\n",
    "            uao (default: np.inf): Barrier of a uao option\n",
    "            uai (default: 0): Barrier of a uai option\n",
    "            \n",
    "    compute_delta_bs():\n",
    "            Uses Black-Scholes closed form solution to compute the Greek Delta of the option.\n",
    "            \n",
    "    compute_vega_bs():\n",
    "            Uses Black-Scholes closed form solution to compute the Greek Vega of the option.\n",
    "            \n",
    "    compute_delta_mc():\n",
    "            Uses the Monte-Carlo simulation prices and the payoff to compute the Greek Delta of the option.\n",
    "    '''\n",
    "    \n",
    "    def __init__(self, S, K, sigma, r, T, option_type, option_style):\n",
    "        self.S = S\n",
    "        self.K = K\n",
    "        self.sigma = sigma\n",
    "        self.r = r\n",
    "        self.T = T\n",
    "        self.option_type = option_type\n",
    "        self.option_style = option_style\n",
    "        \n",
    "    def __compute_pde(self):\n",
    "        self.d1 = (np.log(self.S / self.K) + (self.r + 0.5 * self.sigma**2) * self.T) \\\n",
    "                / (self.sigma * np.sqrt(self.T))\n",
    "        self.d2 = self.d1 - (self.sigma * np.sqrt(self.T))\n",
    "        \n",
    "        return self.d1, self.d2\n",
    "        \n",
    "    def compute_black_scholes(self):\n",
    "        d1, d2 = self.__compute_pde()\n",
    "        \n",
    "        if self.option_type == \"call\":\n",
    "            price = (self.S * norm.cdf(d1)) - (self.K * np.exp(-self.r * self.T) * norm.cdf(d2)) \n",
    "\n",
    "        elif self.option_type == \"put\":\n",
    "            price = (self.K * np.exp(-self.r * self.T) * norm.cdf(-d2)) - (self.S * norm.cdf(-d1))\n",
    "\n",
    "            if self.option_style == \"American\":\n",
    "                return None\n",
    "\n",
    "        return np.round(price, 2)\n",
    "    \n",
    "    def compute_monte_carlo(self, iterations, uao=np.inf, uai=0):\n",
    "        n = 365\n",
    "        steps = int(self.T * n)\n",
    "      \n",
    "        z = np.random.standard_normal([iterations, steps])\n",
    "        \n",
    "        self.S_t = np.zeros([iterations, steps])\n",
    "                \n",
    "        self.S_t[0:, 0] = self.S\n",
    "        \n",
    "        for j in range(1, steps):\n",
    "            for i in range(iterations):\n",
    "                self.S_t[i, j] = self.S_t[i, j-1] * \\\n",
    "                    np.exp(((self.r - self.sigma**2/2) * self.T / steps) + self.sigma * np.sqrt(self.T / steps) * z[i, j])\n",
    "        \n",
    "        barrier_uao = self.S_t >= uao\n",
    "        barrier_uai = ~(self.S_t >= uai)\n",
    "                \n",
    "        if self.option_type == \"call\":\n",
    "            self.Op = np.maximum(self.S_t - self.K, 0)\n",
    "            \n",
    "        elif self.option_type == \"put\":\n",
    "            self.Op = np.maximum(self.K - self.S_t, 0)\n",
    "        \n",
    "        for i in range(iterations):\n",
    "            if barrier_uao[i].any():\n",
    "                self.Op[i, np.argmax(barrier_uao[i]):] = 0\n",
    "                \n",
    "            if barrier_uai[i].all():\n",
    "                 self.Op[i, :] = 0\n",
    "                \n",
    "        pricing = np.exp(-self.r * self.T) * self.Op[:, -1]\n",
    "        \n",
    "        \n",
    "        if self.option_type == \"put\" and self.option_style == \"American\": \n",
    "            pricing = []\n",
    "            for i in range(iterations):              \n",
    "                for j in range(steps):\n",
    "                    if self.Op[i, j] >= self.Op[i, -1] * np.exp(-self.r * self.T):\n",
    "                        pricing.append(self.Op[i, j] * np.exp(-self.r * j / steps))\n",
    "                        break\n",
    "    \n",
    "        price = np.mean(pricing)\n",
    "        \n",
    "        return np.round(price, 2)\n",
    "        \n",
    "    def compute_delta_bs(self):\n",
    "        \n",
    "        d1 = self.__compute_pde()[0]\n",
    "        \n",
    "        if self.option_type == \"call\":           \n",
    "            delta = norm.cdf(d1)   \n",
    "        elif self.option_type == \"put\":\n",
    "            delta = norm.cdf(d1) - 1\n",
    "            \n",
    "        return np.round(delta, 3)\n",
    "    \n",
    "    def compute_vega_bs(self):\n",
    "        \n",
    "        d1 = self.__compute_pde()[0]\n",
    "    \n",
    "        vega = self.S * norm.pdf(d1) * np.sqrt(self.T)\n",
    "            \n",
    "        return np.round(vega, 3)  \n",
    "    \n",
    "    def compute_delta_mc(self):\n",
    "        \n",
    "        return np.round(np.mean((self.Op[:, -1] - self.Op[:, 0]) / (self.S_t[:, -1] - self.S_t[:, 0])),3)"
   ]
  },
  {
   "cell_type": "code",
   "execution_count": 3,
   "id": "ff6a5249-f815-4fc1-a4f5-4612d39fe3be",
   "metadata": {},
   "outputs": [
    {
     "data": {
      "text/plain": [
       "5.01"
      ]
     },
     "execution_count": 3,
     "metadata": {},
     "output_type": "execute_result"
    }
   ],
   "source": [
    "OptionPricing(80, 80, 0.35, 0.055, 3/12, \"put\", \"European\").compute_black_scholes()"
   ]
  },
  {
   "cell_type": "markdown",
   "id": "18162d46-df8d-4128-8c93-95438449d890",
   "metadata": {
    "tags": []
   },
   "source": [
    "<div style=\"page-break-after: always;\"></div>\n",
    "\n",
    "# <center>Step 1</center>\n",
    "\n",
    "### 1. Pricing of European call and put option using Black-Scholes closed form solution and computing the Greeks\n",
    "\n",
    "$\n",
    "\\hspace{1cm}S_0 = 100 \\\\\n",
    "\\hspace{1cm}r = 5\\% \\\\\n",
    "\\hspace{1cm}\\sigma = 20\\% \\\\\n",
    "\\hspace{1cm}T = 3 months\n",
    "$\n",
    "\n",
    "#### Price of an ATM European call and put using Black-Scholes closed form solution.\n",
    "\n",
    "As the number of steps in the binomial tree approaches infinity, the model approaches the continuous-time Black-Scholes model. The Black-Scholes model provides a closed-form solution for the price of a European option, while the binomial model requires numerical methods to calculate the option price.\n",
    "\n",
    "The Black-Scholes formula for call and put are:\n",
    "\n",
    "$\n",
    "\\begin{align*}\n",
    "\\hspace{1cm}\\text{Call option:} \\\\\n",
    "\\hspace{2cm} C &= S_0 \\mathcal{N}(d_1) - K e^{-rT} \\mathcal{N}(d_2) \\\\[2em]\n",
    "\\hspace{1cm}\\text{Put option:} \\\\\n",
    "\\hspace{2cm} P &= K e^{-rT} \\mathcal{N}(-d_2) - S_0 \\mathcal{N}(-d_1) \\\\[2em]\n",
    "\\hspace{1cm}\\text{where:} \\\\\n",
    "\\hspace{2cm} S_0 &= \\text{current price of the underlying asset} \\\\[0.5em]\n",
    "\\hspace{2cm} K &= \\text{strike price of the option} \\\\[0.5em]\n",
    "\\hspace{2cm} T &= \\text{time to expiration of the option} \\\\[0.5em]\n",
    "\\hspace{2cm} r &= \\text{risk-free interest rate} \\\\[0.5em]\n",
    "\\hspace{2cm} \\sigma &= \\text{volatility of the underlying asset's returns} \\\\[0.5em]\n",
    "\\hspace{2cm} d_1 &= \\frac{\\ln(S_0/K) + \\left(r + \\frac{\\sigma^2}{2}\\right)T}{\\sigma\\sqrt{T}} \\\\[0.5em]\n",
    "\\hspace{2cm} d_2 &= d_1 - \\sigma\\sqrt{T} \\\\[0.5em]\n",
    "\\hspace{2cm} \\mathcal{N}(x) &= \\text{cumulative distribution function of the standard normal distribution.}\n",
    "\\end{align*}\n",
    "$\n",
    "\n",
    "##### Price of European call option"
   ]
  },
  {
   "cell_type": "code",
   "execution_count": 2,
   "id": "c41e0acc-0a5d-441f-a3ce-9da14fc99c94",
   "metadata": {},
   "outputs": [
    {
     "name": "stdout",
     "output_type": "stream",
     "text": [
      "Price of an ATM European call using Black-Scholes: 4.61\n"
     ]
    }
   ],
   "source": [
    "S_0 = 100\n",
    "K = 100\n",
    "sigma = 0.2\n",
    "r = 0.05\n",
    "T = 3/12\n",
    "\n",
    "\n",
    "call_option = OptionPricing(S_0, K, sigma, r, T, option_type=\"call\", option_style=\"European\")\n",
    "call_price_bs = call_option.compute_black_scholes()\n",
    "\n",
    "print(f\"Price of an ATM European call using Black-Scholes: {call_price_bs}\")"
   ]
  },
  {
   "cell_type": "markdown",
   "id": "75643ba1-b90c-446e-983f-78206cf3a883",
   "metadata": {},
   "source": [
    "##### Price of European put option"
   ]
  },
  {
   "cell_type": "code",
   "execution_count": 3,
   "id": "9d5a6637-eb9a-47e1-8256-4063414c2373",
   "metadata": {},
   "outputs": [
    {
     "name": "stdout",
     "output_type": "stream",
     "text": [
      "Price of an ATM European put using Black-Scholes: 3.37\n"
     ]
    }
   ],
   "source": [
    "S_0 = 100\n",
    "K = 100\n",
    "sigma = 0.2\n",
    "r = 0.05\n",
    "T = 3/12\n",
    "\n",
    "\n",
    "put_option = OptionPricing(S_0, K, sigma, r, T, option_type=\"put\", option_style=\"European\")\n",
    "put_price_bs = put_option.compute_black_scholes()\n",
    "\n",
    "print(f\"Price of an ATM European put using Black-Scholes: {put_price_bs}\")"
   ]
  },
  {
   "cell_type": "markdown",
   "id": "36268786-fe11-4b35-a2fb-0ab05ef7eeb3",
   "metadata": {},
   "source": [
    "| Method | Call Option | Put Option |\n",
    "| :---: | :---: | :---: |\n",
    "| Black-Scholes | 4.61 | 3.37 |"
   ]
  },
  {
   "cell_type": "markdown",
   "id": "bee0aa4e-a529-44f0-bb3d-533d4d3016c2",
   "metadata": {},
   "source": [
    "#### Greek Delta for the European call and European put at time 0\n",
    "\n",
    "\n",
    "Delta of an option represents the change in option's price for a small change in the underlying asset price. The Delta from call option is positive and negative for put options.\n",
    "\n",
    "$\n",
    "\\hspace{1cm}\\Delta(\\text{call}) = \\mathcal{N}(d_1) \\\\\n",
    "\\hspace{1cm}\\Delta(\\text{put}) = \\mathcal{N}(d_1) - 1\n",
    "$\n",
    "\n"
   ]
  },
  {
   "cell_type": "markdown",
   "id": "60e81790",
   "metadata": {},
   "source": [
    "<div style=\"page-break-after: always;\"></div>\n",
    "\n",
    "##### Delta of call option"
   ]
  },
  {
   "cell_type": "code",
   "execution_count": 4,
   "id": "cc41ed7c-e36f-4c82-b55e-935bfea63014",
   "metadata": {},
   "outputs": [
    {
     "name": "stdout",
     "output_type": "stream",
     "text": [
      "Delta of European call at time 0: 0.569\n"
     ]
    }
   ],
   "source": [
    "print(f\"Delta of European call at time 0: {call_option.compute_delta_bs()}\")"
   ]
  },
  {
   "cell_type": "markdown",
   "id": "6fafac65-cadd-4bdb-9922-e595d279a810",
   "metadata": {},
   "source": [
    "##### Delta of put option"
   ]
  },
  {
   "cell_type": "code",
   "execution_count": 5,
   "id": "ff0d7166-4eff-4b2c-98dd-8813408ce289",
   "metadata": {},
   "outputs": [
    {
     "name": "stdout",
     "output_type": "stream",
     "text": [
      "Delta of European call at time 0: -0.431\n"
     ]
    }
   ],
   "source": [
    "print(f\"Delta of European call at time 0: {put_option.compute_delta_bs()}\")"
   ]
  },
  {
   "cell_type": "markdown",
   "id": "8cf2536a-4dcf-4975-9002-b886eebacdb7",
   "metadata": {},
   "source": [
    "|  | Call Option | Put Option |\n",
    "| --- | --- | --- |\n",
    "| Delta of European | 0.569 | -0.431 |"
   ]
  },
  {
   "cell_type": "markdown",
   "id": "768684d1-42d3-4824-b700-e2e26f85f7a9",
   "metadata": {
    "tags": []
   },
   "source": [
    "#### Greek Vega for the European option\n",
    "\n",
    "Vega is the sensitivity of the option price to changes in volatility. In general, higher Vega values indicate that an option is more sensitive to changes in volatility.\n",
    "\n",
    "$\n",
    "\\hspace{1cm}\\text{Vega} = \\large{\\frac{\\partial C}{\\partial \\sigma}} = \\large{\\frac{\\partial P}{\\partial \\sigma}} = \\small{S_0 \\sqrt{T} \\, \\mathcal{N}(d_1)}\n",
    "$\n"
   ]
  },
  {
   "cell_type": "code",
   "execution_count": 6,
   "id": "ce08d306-826e-46b1-a068-d95dcf00b468",
   "metadata": {},
   "outputs": [
    {
     "name": "stdout",
     "output_type": "stream",
     "text": [
      "Vega of the European option: 19.644\n"
     ]
    }
   ],
   "source": [
    "print(f\"Vega of the European option: {call_option.compute_vega_bs()}\")"
   ]
  },
  {
   "cell_type": "markdown",
   "id": "702beb27-e76b-4778-bdc6-69745bdfc8ac",
   "metadata": {},
   "source": [
    "### 2. Pricing of European call and put option with Monte-Carlo methods under GBM equation and computing the Greeks\n",
    "\n",
    "#### Price of an ATM European call and put using Monte-Carlo methods\n",
    "\n",
    "The GBM has the following stochastic differential equation (SDE):\n",
    "\n",
    "$\n",
    "\\hspace{1cm}dS_t = \\mu S_tdt + \\sigma S_tdW_t\n",
    "$\n",
    "\n",
    "$S_t$ can be solved as,\n",
    "\n",
    "$\n",
    "\\begin{align*}\n",
    "\\hspace{1cm}S_t &= S_{t-1} \\cdot e^{\\left(\\frac{r-\\sigma^2/2}{n}+\\sigma \\sqrt{\\frac{1}{n}} \\cdot z\\right)} \\\\[0.5em]\n",
    "\\hspace{1cm}\\text{where,} \\\\\n",
    "\\hspace{2cm}S_{t-1} &= \\text{Price at previous step} \\\\\n",
    "\\hspace{2cm}r &= \\text{Risk free rate of interest} \\\\\n",
    "\\hspace{2cm}\\sigma &= \\text{Volatility of the returns of underlying asset} \\\\\n",
    "\\hspace{2cm}n &= \\text{Number of time-steps} \\\\\n",
    "\\hspace{2cm}z &= \\mathcal{N}(0,1)\n",
    "\\end{align*}\n",
    "$\n",
    "\n",
    "With very large number of time steps, the Monte-Carlo method converges to the same price as the Black-Scholes closed-form solution.\n",
    "\n",
    "Assuming the interest rate remains constant, the option will be valued as follows:\n",
    "\n",
    "* Simulate large number of sample paths with daily time steps.\n",
    "* Calculate the payoff from the options.\n",
    "* Calculate the mean of the payoffs at expiry to compute the expected payoff.\n",
    "* Discount the payoff to time $t=0$.\n",
    "\n",
    "##### Price of European call option"
   ]
  },
  {
   "cell_type": "code",
   "execution_count": 7,
   "id": "97883e70-8720-4395-8d6b-657276e00c76",
   "metadata": {},
   "outputs": [
    {
     "data": {
      "image/png": "[encoded data removed]",
      "text/plain": [
       "<Figure size 640x480 with 1 Axes>"
      ]
     },
     "metadata": {},
     "output_type": "display_data"
    }
   ],
   "source": [
    "np.random.seed(42)\n",
    "\n",
    "S_0 = 100\n",
    "K = 100\n",
    "sigma = 0.2\n",
    "r = 0.05\n",
    "T = 3/12\n",
    "\n",
    "call_option = OptionPricing(S_0, K, sigma, r, T, option_type=\"call\", option_style=\"European\")\n",
    "\n",
    "call_prices = dict()\n",
    "\n",
    "for iteration in np.geomspace(100, 300_000, 30, dtype=int):\n",
    "    call_prices[iteration] = call_option.compute_monte_carlo(iteration)\n",
    "\n",
    "plt.plot(call_prices.keys(), call_prices.values())\n",
    "plt.title(\"Call option price vs Number of iterations\")\n",
    "plt.xlabel(\"Number of iterations\")\n",
    "plt.ylabel(\"Call option price\");"
   ]
  },
  {
   "cell_type": "markdown",
   "id": "6a81b64c-ba8b-4a4e-b80b-4d9b7d25eca8",
   "metadata": {},
   "source": [
    "The price of the call option converges at around 75 000 iterations. So, we will use 75 000 iterations to price the option."
   ]
  },
  {
   "cell_type": "code",
   "execution_count": 8,
   "id": "1daed5a9-52b3-46b8-9766-ee17b3efcd3a",
   "metadata": {},
   "outputs": [
    {
     "name": "stdout",
     "output_type": "stream",
     "text": [
      "Price of an ATM European call using Monte-Carlo simulation: 4.58\n"
     ]
    }
   ],
   "source": [
    "np.random.seed(42)\n",
    "\n",
    "S_0 = 100\n",
    "K = 100\n",
    "sigma = 0.2\n",
    "r = 0.05\n",
    "T = 3/12\n",
    "\n",
    "call_option = OptionPricing(S_0, K, sigma, r, T, option_type=\"call\", option_style=\"European\")\n",
    "call_price_mc = call_option.compute_monte_carlo(75_000)\n",
    "\n",
    "print(f\"Price of an ATM European call using Monte-Carlo simulation: {call_price_mc}\")"
   ]
  },
  {
   "cell_type": "markdown",
   "id": "5d61cc8b-9c3b-4204-b34e-0db5ff18614a",
   "metadata": {},
   "source": [
    "##### Price of European put option"
   ]
  },
  {
   "cell_type": "code",
   "execution_count": 9,
   "id": "bb9d9208-1b98-48c9-9a40-76098e45560f",
   "metadata": {},
   "outputs": [
    {
     "data": {
      "image/png": "[encoded data removed]",
      "text/plain": [
       "<Figure size 640x480 with 1 Axes>"
      ]
     },
     "metadata": {},
     "output_type": "display_data"
    }
   ],
   "source": [
    "np.random.seed(42)\n",
    "\n",
    "S_0 = 100\n",
    "K = 100\n",
    "sigma = 0.2\n",
    "r = 0.05\n",
    "T = 3/12\n",
    "\n",
    "put_option = OptionPricing(S_0, K, sigma, r, T, option_type=\"put\", option_style=\"European\")\n",
    "\n",
    "put_prices = dict()\n",
    "\n",
    "for iteration in np.geomspace(100, 300_000, 30, dtype=int):\n",
    "    put_prices[iteration] = put_option.compute_monte_carlo(iteration)\n",
    "\n",
    "plt.plot(put_prices.keys(), put_prices.values())\n",
    "plt.title(\"Put option price vs Number of iterations\")\n",
    "plt.xlabel(\"Number of iterations\")\n",
    "plt.ylabel(\"Put option price\");"
   ]
  },
  {
   "cell_type": "markdown",
   "id": "f8fd52cc-0621-4d3f-a897-5db5b1d3a2dd",
   "metadata": {},
   "source": [
    "<div style=\"page-break-after: always;\"></div>\n",
    "\n",
    "Again, the price of the put option converges at around 75 000 iterations."
   ]
  },
  {
   "cell_type": "code",
   "execution_count": 10,
   "id": "5d2b373c-9d48-4332-80bf-0fdb5b98bed3",
   "metadata": {},
   "outputs": [
    {
     "name": "stdout",
     "output_type": "stream",
     "text": [
      "Price of an ATM European put using Monte-Carlo simulation: 3.36\n"
     ]
    }
   ],
   "source": [
    "np.random.seed(42)\n",
    "\n",
    "put_price_mc = put_option.compute_monte_carlo(75_000)\n",
    "\n",
    "print(f\"Price of an ATM European put using Monte-Carlo simulation: {put_price_mc}\")"
   ]
  },
  {
   "cell_type": "markdown",
   "id": "edbdb0d6-149e-4544-9e7d-44f3c7ed0523",
   "metadata": {},
   "source": [
    "| Method | Call Option | Put Option |\n",
    "| :---: | :---: | :---: |\n",
    "| Monte-Carlo | 4.58 | 3.36 |"
   ]
  },
  {
   "cell_type": "markdown",
   "id": "e8a1ea9d-e5b7-49e2-ae1f-3247f5f4f5b3",
   "metadata": {},
   "source": [
    "#### Compute the Greek Delta for the European call and European put at time 0\n",
    "\n",
    "Delta of the option is computed as the ratio of change in option price to the change in value of underlying asset.\n",
    "\n",
    "##### Delta of call option"
   ]
  },
  {
   "cell_type": "code",
   "execution_count": 11,
   "id": "87f6085d-187c-4a78-83ac-f7fa3a12ee4f",
   "metadata": {},
   "outputs": [
    {
     "name": "stdout",
     "output_type": "stream",
     "text": [
      "Delta of European call at time 0: 0.53\n"
     ]
    }
   ],
   "source": [
    "print(f\"Delta of European call at time 0: {call_option.compute_delta_mc()}\")"
   ]
  },
  {
   "cell_type": "markdown",
   "id": "f0806a92-0211-4004-8dcf-330f9e5473f7",
   "metadata": {},
   "source": [
    "##### Delta of put option"
   ]
  },
  {
   "cell_type": "code",
   "execution_count": 12,
   "id": "f352ef36-64d6-4bcb-b3dd-968861fa059f",
   "metadata": {},
   "outputs": [
    {
     "name": "stdout",
     "output_type": "stream",
     "text": [
      "Delta of European put at time 0: -0.47\n"
     ]
    }
   ],
   "source": [
    "print(f\"Delta of European put at time 0: {put_option.compute_delta_mc()}\")"
   ]
  },
  {
   "cell_type": "markdown",
   "id": "4c5a1bca-0503-42a3-a3f7-c427c1fec598",
   "metadata": {},
   "source": [
    "|  | Call Option | Put Option |\n",
    "| :---: | :---: | :---: |\n",
    "| Delta of European | 0.53 | -0.47 |"
   ]
  },
  {
   "cell_type": "markdown",
   "id": "40e2ebff-f0ba-48b3-8b9b-36440988309c",
   "metadata": {},
   "source": [
    "#### Greek Vega for the European option\n",
    "\n",
    "Vega is the sensitivity of option price to change in volatility. We shall price both call and put options with volatilities 0.20 and 0.25."
   ]
  },
  {
   "cell_type": "markdown",
   "id": "9bd4db72-016f-45db-84bc-8c73bd09cd10",
   "metadata": {},
   "source": [
    "##### Call option"
   ]
  },
  {
   "cell_type": "code",
   "execution_count": 13,
   "id": "9970ff62-fb58-4fed-8483-426c68e4da51",
   "metadata": {},
   "outputs": [
    {
     "name": "stdout",
     "output_type": "stream",
     "text": [
      "Price of call option with increasing volatility: \n",
      "\t{0.2: 4.58, 0.25: 5.53}\n"
     ]
    }
   ],
   "source": [
    "np.random.seed(42)\n",
    "\n",
    "volatilities = [0.2, 0.25]\n",
    "\n",
    "call_prices = {\n",
    "    vol: OptionPricing(S_0, K, vol, r, T, \"call\", \"European\").compute_monte_carlo(75_000) for vol in volatilities\n",
    "}\n",
    "\n",
    "print(f\"Price of call option with increasing volatility: \\n\\t{call_prices}\")"
   ]
  },
  {
   "cell_type": "markdown",
   "id": "5b8a7ec1-4548-4c59-af47-b619fa56e2dd",
   "metadata": {},
   "source": [
    "##### Put option"
   ]
  },
  {
   "cell_type": "code",
   "execution_count": 14,
   "id": "50e18603-55a8-4d08-93f6-3b59e3ffd267",
   "metadata": {},
   "outputs": [
    {
     "name": "stdout",
     "output_type": "stream",
     "text": [
      "Price of put option with increasing volatility: \n",
      "\t{0.2: 3.36, 0.25: 4.33}\n"
     ]
    }
   ],
   "source": [
    "np.random.seed(42)\n",
    "\n",
    "volatilities = [0.2, 0.25]\n",
    "\n",
    "put_prices = {\n",
    "    vol: OptionPricing(S_0, K, vol, r, T, \"put\", \"European\").compute_monte_carlo(75_000) for vol in volatilities\n",
    "}\n",
    "\n",
    "print(f\"Price of put option with increasing volatility: \\n\\t{put_prices}\")"
   ]
  },
  {
   "cell_type": "markdown",
   "id": "e068ac84-f8a0-4bfd-8470-f8e47c75fec2",
   "metadata": {},
   "source": [
    "| Volatility | Call Option | Put Option |\n",
    "| :---: | :---: | :---: |\n",
    "| 0.20 | 4.58 | 3.36 |\n",
    "| 0.25 | 5.53 | 4.33 |"
   ]
  },
  {
   "cell_type": "markdown",
   "id": "edd44a95-6557-424b-a0bb-b1b0bebd5273",
   "metadata": {},
   "source": [
    "An approximation to vega can be computed as follows:\n",
    "\n",
    "$\n",
    "\\begin{align*}\n",
    "\\small{\\hspace{0.5cm}Vega} &= {\\frac{\\text{Change in price of option}}{\\text{Change in volatility}}} \\\\[0.5em]\n",
    "&= \\small{\\frac{5.53 - 4.58}{0.25 - 0.20}} \\\\[0.25em]\n",
    "&= \\small{19.00}\n",
    "\\end{align*}\n",
    "$"
   ]
  },
  {
   "cell_type": "markdown",
   "id": "6b4bffea-eac1-47f9-b721-a1023b2267bb",
   "metadata": {
    "tags": []
   },
   "source": [
    "<div style=\"page-break-after: always;\"></div>\n",
    "\n",
    "### Summary\n",
    "\n",
    "#####  Price of European option \n",
    "\n",
    "| Method | Call Option | Put Option |\n",
    "| :---: | :---: | :---: |\n",
    "| Binomial tree (GWP1) | 4.60 | 3.35 |\n",
    "| Trinomial tree (GWP1) | 4.61 | 3.36 |\n",
    "| Black-Scholes | 4.61 | 3.37 |\n",
    "| Monte-Carlo| 4.58 | 3.36 |\n",
    "\n",
    "<br></br>\n",
    "\n",
    "##### Greeks\n",
    "\n",
    "\n",
    "| | Call Option | Put Option |\n",
    "| :---: | :---: | :---: |\n",
    "| Delta (BS) | 0.569 | -0.431 |\n",
    "| Delta (MC) | 0.530 | -0.470 |\n",
    "| Vega (BS) <td colspan=2 style=\"text-align:center\">19.644</td>|\n",
    "| Vega (MC) <td colspan=2 style=\"text-align:center\">19.000</td>|"
   ]
  },
  {
   "cell_type": "markdown",
   "id": "4235d410-004c-49ba-a5b7-bac918459664",
   "metadata": {},
   "source": [
    "### 3. Checking that Put-Call parity is satisfied under both methods (BS and MC).\n",
    "\n",
    "##### Black Scholes"
   ]
  },
  {
   "cell_type": "code",
   "execution_count": 15,
   "id": "ab1fa8a1-8d8a-45ab-83b1-bdd6953dd192",
   "metadata": {},
   "outputs": [
    {
     "name": "stdout",
     "output_type": "stream",
     "text": [
      "LHS: 103.37\n",
      "RHS: 103.37\n"
     ]
    }
   ],
   "source": [
    "lhs = np.round(put_price_bs + S_0, 2)\n",
    "rhs = np.round(call_price_bs + K * np.exp(-r * T), 2)\n",
    "\n",
    "print(f\"LHS: {lhs}\")\n",
    "print(f\"RHS: {rhs}\")"
   ]
  },
  {
   "cell_type": "markdown",
   "id": "c89b0a0a-ee42-4de6-9813-eeacc1d2badc",
   "metadata": {},
   "source": [
    "##### Monte-Carlo"
   ]
  },
  {
   "cell_type": "code",
   "execution_count": 16,
   "id": "7c16713b-f686-43f2-862b-a574d56808d4",
   "metadata": {},
   "outputs": [
    {
     "name": "stdout",
     "output_type": "stream",
     "text": [
      "LHS: 103.36\n",
      "RHS: 103.34\n"
     ]
    }
   ],
   "source": [
    "lhs = np.round(put_price_mc + S_0, 2)\n",
    "rhs = np.round(call_price_mc + K * np.exp(-r * T), 2)\n",
    "\n",
    "print(f\"LHS: {lhs}\")\n",
    "print(f\"RHS: {rhs}\")"
   ]
  },
  {
   "cell_type": "markdown",
   "id": "d1b40e13-7f36-40d4-a7d8-b6706924b19e",
   "metadata": {},
   "source": [
    "The put-call parity holds perfectly with Black-Scholes closed form solution, but in case of Monte-Carlo, there is a little variation of \\$0.02. This is due to the randomness involved in the Monte-Carlo simulation and can be improved by increasing the number of simulations and the number of time-steps. "
   ]
  },
  {
   "cell_type": "markdown",
   "id": "ae26af28-30dd-4498-9849-69c5e16099cf",
   "metadata": {
    "tags": []
   },
   "source": [
    "<div style=\"page-break-after: always;\"></div>\n",
    "\n",
    "# <center>Step 2</center>\n",
    "\n",
    "### 4. Pricing of American call option with Monte-Carlo methods under GBM equation and computing the Greeks\n",
    "\n",
    "To achieve reliable estimates, we choose 75 000 steps (from step 1) for daily simulations. The overall process involves simulating the underlying asset price using the GBM model for daily simulations. At each time step, the option value is estimated using the risk-neutral pricing formula. The process is repeated multiple times to obtain a distribution of option prices, which are then used to calculate the option price and its Greeks. We chose 75 000 steps as it strikes a balance between computational efficiency and accuracy in our estimation.\n",
    "\n",
    "##### Price of American call option"
   ]
  },
  {
   "cell_type": "code",
   "execution_count": 17,
   "id": "070b116a-e5de-4cba-8259-57837456cd90",
   "metadata": {},
   "outputs": [
    {
     "name": "stdout",
     "output_type": "stream",
     "text": [
      "Price of an ATM American call using Monte-Carlo simulation: 4.58\n"
     ]
    }
   ],
   "source": [
    "np.random.seed(42)\n",
    "\n",
    "call_option = OptionPricing(S_0, K, sigma, r, T, option_type=\"call\", option_style=\"American\")\n",
    "call_price_mc = call_option.compute_monte_carlo(75_000)\n",
    "\n",
    "print(f\"Price of an ATM American call using Monte-Carlo simulation: {call_price_mc}\")"
   ]
  },
  {
   "cell_type": "markdown",
   "id": "632f5445-bf4a-48b2-a221-7490922e8870",
   "metadata": {},
   "source": [
    "##### Delta of the option"
   ]
  },
  {
   "cell_type": "code",
   "execution_count": 18,
   "id": "f0275415-0356-4190-a734-08aee2c67811",
   "metadata": {},
   "outputs": [
    {
     "name": "stdout",
     "output_type": "stream",
     "text": [
      "Delta of the call option: 0.53\n"
     ]
    }
   ],
   "source": [
    "print(f\"Delta of the call option: {call_option.compute_delta_mc()}\")"
   ]
  },
  {
   "cell_type": "markdown",
   "id": "cea9546b-4b7c-44e2-b8a5-9647cab9ab31",
   "metadata": {},
   "source": [
    "Delta represents the sensitivity of option price with respect to changes in the underlying asset price. A delta of 0.528 indicates that for a \\$1 increase in the underlying asset price, the option price would increase by \\\\$0.528."
   ]
  },
  {
   "cell_type": "markdown",
   "id": "9e0b5b59-9931-424f-af48-ec8f80e496b0",
   "metadata": {},
   "source": [
    "##### Vega of the option"
   ]
  },
  {
   "cell_type": "code",
   "execution_count": 19,
   "id": "902ec273-dd4f-4a5b-b759-bdeecbc4a18b",
   "metadata": {},
   "outputs": [
    {
     "name": "stdout",
     "output_type": "stream",
     "text": [
      "Price of call option with increasing volatility: \n",
      "\t{0.2: 4.58, 0.25: 5.53}\n"
     ]
    }
   ],
   "source": [
    "np.random.seed(42)\n",
    "\n",
    "volatilities = [0.2, 0.25]\n",
    "\n",
    "call_prices = {\n",
    "    vol: OptionPricing(S_0, K, vol, r, T, \"call\", \"American\").compute_monte_carlo(75_000) for vol in volatilities\n",
    "}\n",
    "\n",
    "print(f\"Price of call option with increasing volatility: \\n\\t{call_prices}\")"
   ]
  },
  {
   "cell_type": "markdown",
   "id": "9fc8ad6d-4635-4437-bb1f-18defdcb0e73",
   "metadata": {},
   "source": [
    "An increase in volatility from 20% to 25% results in an increase in option price from 4.58 to 5.53.\n",
    "\n",
    "$\n",
    "\\hspace{1cm}Vega = \\normalsize{\\frac{5.53 - 4.58}{0.25 - 0.20}} = \\small{19.00}\n",
    "$"
   ]
  },
  {
   "cell_type": "markdown",
   "id": "6f835f13-195f-480c-9a14-86bf1c1fb055",
   "metadata": {},
   "source": [
    "### 5. Pricing of American put option with Monte-Carlo methods under GBM equation and computing the Greeks\n",
    "\n",
    "##### Price of American Put option"
   ]
  },
  {
   "cell_type": "code",
   "execution_count": 20,
   "id": "b78acdca-ae38-4204-868e-36634fa4ddff",
   "metadata": {},
   "outputs": [
    {
     "name": "stdout",
     "output_type": "stream",
     "text": [
      "Price of an ATM American put using Monte-Carlo simulation: 3.49\n"
     ]
    }
   ],
   "source": [
    "np.random.seed(42)\n",
    "\n",
    "put_option = OptionPricing(S_0, K, sigma, r, T, option_type=\"put\", option_style=\"American\")\n",
    "put_price_mc = put_option.compute_monte_carlo(75_000)\n",
    "\n",
    "print(f\"Price of an ATM American put using Monte-Carlo simulation: {put_price_mc}\")"
   ]
  },
  {
   "cell_type": "markdown",
   "id": "a049485d-a009-4b40-bee6-349bc4e75731",
   "metadata": {},
   "source": [
    "##### Delta of the option"
   ]
  },
  {
   "cell_type": "code",
   "execution_count": 21,
   "id": "b016d706-913a-48bc-9647-d492db69cdb7",
   "metadata": {},
   "outputs": [
    {
     "name": "stdout",
     "output_type": "stream",
     "text": [
      "Delta of the put option: -0.47\n"
     ]
    }
   ],
   "source": [
    "print(f\"Delta of the put option: {put_option.compute_delta_mc()}\")"
   ]
  },
  {
   "cell_type": "markdown",
   "id": "15db7692-8391-49f0-99bf-729aa48699a2",
   "metadata": {},
   "source": [
    "Delta represents the sensitivity of option price with respect to changes in the underlying asset price. Delta of a put option is always negative, while that of a call is always positive."
   ]
  },
  {
   "cell_type": "markdown",
   "id": "d6035457-8124-4396-be30-c14e675c6c17",
   "metadata": {},
   "source": [
    "##### Vega of the option"
   ]
  },
  {
   "cell_type": "code",
   "execution_count": 22,
   "id": "a61af6c4-a9e4-486f-8dc0-eba4c058987d",
   "metadata": {},
   "outputs": [
    {
     "name": "stdout",
     "output_type": "stream",
     "text": [
      "Price of put option with increasing volatility: \n",
      "\t{0.2: 3.49, 0.25: 4.49}\n"
     ]
    }
   ],
   "source": [
    "np.random.seed(42)\n",
    "\n",
    "volatilities = [0.2, 0.25]\n",
    "\n",
    "put_prices = {\n",
    "    vol: OptionPricing(S_0, K, vol, r, T, \"put\", \"American\").compute_monte_carlo(75_000) for vol in volatilities\n",
    "}\n",
    "\n",
    "print(f\"Price of put option with increasing volatility: \\n\\t{put_prices}\")"
   ]
  },
  {
   "cell_type": "markdown",
   "id": "87a75282-1aad-4ce0-8130-5c4713a0566d",
   "metadata": {
    "jp-MarkdownHeadingCollapsed": true,
    "tags": []
   },
   "source": [
    "An increase in volatility from 20% to 25% results in an increase in option price from 3.49 to 4.49."
   ]
  },
  {
   "cell_type": "markdown",
   "id": "acb4b141-d534-4c6a-8a4e-a383ce0e265e",
   "metadata": {
    "tags": []
   },
   "source": [
    "<div style=\"page-break-after: always;\"></div>\n",
    "\n",
    "### Summary\n",
    "\n",
    "##### Price of American Option\n",
    "\n",
    "| Method | Call Option | Put Option |\n",
    "| :---: | :---: | :---: |\n",
    "| Binomial tree (GWP1) | 4.60 | 3.47 |\n",
    "| Trinomial tree (GWP1) | 4.61 | 3.47 |\n",
    "| Monte-Carlo| 4.58 | 3.49 |\n",
    "\n",
    "<br></br>\n",
    "\n",
    "##### Greeks\n",
    "\n",
    "| | Call Option | Put Option |\n",
    "| :---: | :---: | :---: |\n",
    "| Delta (MC) | 0.53 | -0.47 |\n",
    "| Vega (MC) <td colspan=2 style=\"text-align:center\">19.00</td>|\n"
   ]
  },
  {
   "cell_type": "markdown",
   "id": "3dcf7b28-6b65-46cd-bc7a-04105134583c",
   "metadata": {},
   "source": [
    "### 6. Strike prices (moneyness) vs Option Prices"
   ]
  },
  {
   "cell_type": "code",
   "execution_count": 23,
   "id": "340f36fb-68dc-4df8-8475-647794cb00c3",
   "metadata": {},
   "outputs": [],
   "source": [
    "moneyness = np.array([0.9, 0.95, 1, 1.05, 1.1])\n",
    "strikes = (moneyness * S_0).astype(int)"
   ]
  },
  {
   "cell_type": "code",
   "execution_count": 24,
   "id": "10312864-ff41-493e-a598-e83df4d9eb2c",
   "metadata": {},
   "outputs": [
    {
     "name": "stdout",
     "output_type": "stream",
     "text": [
      "Price of the call option at various levels of moneyness: {90: 11.64, 95: 7.66, 100: 4.6, 105: 2.43, 110: 1.16}\n"
     ]
    }
   ],
   "source": [
    "np.random.seed(42)\n",
    "\n",
    "call_prices = {\n",
    "    strike: OptionPricing(S_0, strike, sigma, r, T, \"call\", \"American\").compute_monte_carlo(75_000) for strike in strikes\n",
    "}\n",
    "\n",
    "print(f\"Price of the call option at various levels of moneyness: {call_prices}\")"
   ]
  },
  {
   "cell_type": "code",
   "execution_count": 25,
   "id": "690b0870-6408-4153-98c3-7cf834b8051f",
   "metadata": {},
   "outputs": [
    {
     "name": "stdout",
     "output_type": "stream",
     "text": [
      "Price of the put option at various levels of moneyness: {90: 0.57, 95: 1.57, 100: 3.46, 105: 8.41, 110: 13.3}\n"
     ]
    }
   ],
   "source": [
    "np.random.seed(42)\n",
    "\n",
    "put_prices = {\n",
    "    strike: OptionPricing(S_0, strike, sigma, r, T, \"put\", \"American\").compute_monte_carlo(75_000) for strike in strikes\n",
    "}\n",
    "\n",
    "print(f\"Price of the put option at various levels of moneyness: {put_prices}\")"
   ]
  },
  {
   "cell_type": "markdown",
   "id": "6fc1daf5-3f95-446b-8c2b-47309b53e027",
   "metadata": {},
   "source": [
    "| Moneyness | Strike | Call Option | Put Option |\n",
    "| :---: | :---: | :---: | :---: |\n",
    "| 0.90 | 90 | 11.64 | 0.57 |\n",
    "| 0.95 | 95 | 7.66 | 1.57 |\n",
    "| 1.00 | 100| 4.60 | 3.46 |\n",
    "| 1.05 | 105| 2.43 | 8.41 |\n",
    "| 1.10 | 110| 1.16 | 13.30 |\n",
    "\n",
    "<br></br>"
   ]
  },
  {
   "cell_type": "code",
   "execution_count": 26,
   "id": "28fb1d62-9da2-494e-9588-ebac8960dabc",
   "metadata": {},
   "outputs": [
    {
     "data": {
      "image/png": "[encoded data removed]",
      "text/plain": [
       "<Figure size 640x480 with 1 Axes>"
      ]
     },
     "metadata": {},
     "output_type": "display_data"
    }
   ],
   "source": [
    "plt.plot(call_prices.keys(), call_prices.values())\n",
    "plt.title(\"Call option price vs Strike price\")\n",
    "plt.xlabel(\"Strike Price (K)\")\n",
    "plt.ylabel(\"Call option Price\");"
   ]
  },
  {
   "cell_type": "code",
   "execution_count": 27,
   "id": "c17d8d7f-369a-4b87-a66c-916d64547f60",
   "metadata": {},
   "outputs": [
    {
     "data": {
      "image/png": "[encoded data removed]",
      "text/plain": [
       "<Figure size 640x480 with 1 Axes>"
      ]
     },
     "metadata": {},
     "output_type": "display_data"
    }
   ],
   "source": [
    "plt.plot(put_prices.keys(), put_prices.values())\n",
    "plt.title(\"Put option price vs Number of Strike price\")\n",
    "plt.xlabel(\"Strike Price (K)\")\n",
    "plt.ylabel(\"Put option Price\");"
   ]
  },
  {
   "cell_type": "markdown",
   "id": "179a88a0-2f0b-4d82-8555-6989fb754a45",
   "metadata": {},
   "source": [
    "The price of both the call and put options increases as the strike price moves from deep OTM to deep ITM."
   ]
  },
  {
   "cell_type": "markdown",
   "id": "d9118974-50c8-41bd-9300-5f4572a96dbb",
   "metadata": {},
   "source": [
    "<div style=\"page-break-after: always;\"></div>\n",
    "\n",
    "# <center>Step 3</center>\n",
    "\n",
    "### 7. Pricing European options using Black-Scholes, computing delta and delta-hedging combined portfolio\n",
    "\n",
    "##### a) Price an European Call option with 110% moneyness and an European Put with 95% moneyness using Black-Scholes. Both have 3 months maturity."
   ]
  },
  {
   "cell_type": "code",
   "execution_count": 28,
   "id": "d974d455-9f1a-411b-96eb-bb6d2bcf4ca8",
   "metadata": {},
   "outputs": [
    {
     "name": "stdout",
     "output_type": "stream",
     "text": [
      "Price of European call option at 110% moneyness: 1.19\n"
     ]
    }
   ],
   "source": [
    "S_0 = 100\n",
    "K = 1.1 * S_0\n",
    "sigma = 0.2\n",
    "r = 0.05\n",
    "T = 3/12 \n",
    "\n",
    "call_option = OptionPricing(S_0, K, sigma, r, T, \"call\", \"European\")\n",
    "call_price = call_option.compute_black_scholes()\n",
    "\n",
    "print(f\"Price of European call option at 110% moneyness: {call_price}\")"
   ]
  },
  {
   "cell_type": "code",
   "execution_count": 29,
   "id": "8670bc9b-c00e-478d-9fa7-8307aa0798fe",
   "metadata": {},
   "outputs": [
    {
     "name": "stdout",
     "output_type": "stream",
     "text": [
      "Price of European Put option at 95% moneyness: 1.53\n"
     ]
    }
   ],
   "source": [
    "S_0 = 100\n",
    "K = 0.95 * S_0\n",
    "sigma = 0.2\n",
    "r = 0.05\n",
    "T = 3/12 \n",
    "\n",
    "put_option = OptionPricing(S_0, K, sigma, r, T, \"put\", \"European\")\n",
    "put_price = put_option.compute_black_scholes()\n",
    "\n",
    "print(f\"Price of European Put option at 95% moneyness: {put_price}\")"
   ]
  },
  {
   "cell_type": "markdown",
   "id": "477b565b-f408-4d4a-8f87-15f470a1b69c",
   "metadata": {},
   "source": [
    "##### b) You build a portfolio that buys the previous Call and Put options. What is the delta of the portfolio? How would you delta-hedge this portfolio?"
   ]
  },
  {
   "cell_type": "code",
   "execution_count": 30,
   "id": "f936dff5-4d88-4d78-a02e-df5f09bd1769",
   "metadata": {},
   "outputs": [
    {
     "name": "stdout",
     "output_type": "stream",
     "text": [
      "delta of call option: 0.218\n",
      "delta of put option: -0.246\n"
     ]
    }
   ],
   "source": [
    "delta_call = call_option.compute_delta_bs()\n",
    "delta_put = put_option.compute_delta_bs()\n",
    "\n",
    "print(f\"delta of call option: {delta_call}\")\n",
    "print(f\"delta of put option: {delta_put}\")"
   ]
  },
  {
   "cell_type": "markdown",
   "id": "fc6d8be4-21ff-4742-9d54-758a80a44358",
   "metadata": {},
   "source": [
    "On buying both the options, the combined of portfolio would be\n",
    "0.218 + 0.246 = 0.464.\n",
    "\n",
    "* To delta-hedge the portfolio, I would buy 0.464 shares of the same underlying asset at 46.40 initially.\n",
    "* The delta-hedging process is dynamic and the number of shares bought/sold and the cash account would be adjusted according the delta at time (t) until expiry of the option.\n",
    "\n"
   ]
  },
  {
   "cell_type": "markdown",
   "id": "8d8836c3-cc7b-440c-8074-0dd67f962c11",
   "metadata": {},
   "source": [
    "##### c) You build a second portfolio that buys the previous Call option and sells the Put. What is the delta of the portfolio? How would you delta-hedge this portfolio?"
   ]
  },
  {
   "cell_type": "code",
   "execution_count": 31,
   "id": "68803cb4-0add-4482-97f3-4831c22512d9",
   "metadata": {},
   "outputs": [
    {
     "name": "stdout",
     "output_type": "stream",
     "text": [
      "delta of call option: 0.218\n",
      "delta of put option: -0.246\n"
     ]
    }
   ],
   "source": [
    "delta_call = call_option.compute_delta_bs()\n",
    "delta_put = put_option.compute_delta_bs()\n",
    "\n",
    "print(f\"delta of call option: {delta_call}\")\n",
    "print(f\"delta of put option: {delta_put}\")"
   ]
  },
  {
   "cell_type": "markdown",
   "id": "58771981-e23c-42a4-9c95-55c1000b6db0",
   "metadata": {},
   "source": [
    "If a portfolio is built by buying the call and selling the put option, the combined delta of the portfolio would be 0.218 - 0.246 = -0.028.\n",
    "\n",
    "* To delta-hedge the portfolio, I would short 0.028 shares of the underlying and lend the money to generate risk-free returns.\n",
    "\n",
    "* The number of holding shares and the cash account would be dynamically adjusted according to the delta computed at time (t) until the time to expiry."
   ]
  },
  {
   "cell_type": "markdown",
   "id": "c5023e87-c56e-440f-bf44-ca2e0538f714",
   "metadata": {},
   "source": [
    "### 8. Pricing an Up-and-Out barrier option using Monte-Carlo simulation\n",
    "\n",
    "$ \n",
    "\\hspace{1cm}S_0 = 120 \\\\\n",
    "\\hspace{1cm}r = 6\\% \\\\\n",
    "\\hspace{1cm}\\sigma = 30\\% \\\\\n",
    "\\hspace{1cm}T = 8 months\n",
    "$"
   ]
  },
  {
   "cell_type": "code",
   "execution_count": 32,
   "id": "c94cdc85-5a80-4ae6-8aaa-8545d308556e",
   "metadata": {},
   "outputs": [
    {
     "name": "stdout",
     "output_type": "stream",
     "text": [
      "Price of an Up-and-Out barrier option: 0.7\n"
     ]
    }
   ],
   "source": [
    "np.random.seed(42)\n",
    "\n",
    "S_0 = 120\n",
    "K = 120\n",
    "sigma = 0.3\n",
    "r = 0.06\n",
    "T = 8/12\n",
    "\n",
    "uao_option = OptionPricing(S_0, K, sigma, r, T, \"call\", \"European\")\n",
    "\n",
    "uao_price = uao_option.compute_monte_carlo(75_000, uao=141)\n",
    "\n",
    "print(f\"Price of an Up-and-Out barrier option: {uao_price}\")"
   ]
  },
  {
   "cell_type": "markdown",
   "id": "7929b538-8a85-4241-b61a-6aaab85af7e8",
   "metadata": {},
   "source": [
    "<div style=\"page-break-after: always;\"></div>\n",
    "\n",
    "### 9. Pricing an Up-and-In barrier option using Monte-Carlo simulation\n",
    "\n",
    "##### a) Compute the price of the UAI option."
   ]
  },
  {
   "cell_type": "code",
   "execution_count": 33,
   "id": "4640cc3e-9154-45cf-8fe1-4bcf92a78dab",
   "metadata": {},
   "outputs": [
    {
     "name": "stdout",
     "output_type": "stream",
     "text": [
      "Price of an Up-and-In barrier option: 13.17\n"
     ]
    }
   ],
   "source": [
    "np.random.seed(42)\n",
    "\n",
    "uai_option = OptionPricing(S_0, K, sigma, r, T, \"call\", \"European\")\n",
    "\n",
    "uai_price = uao_option.compute_monte_carlo(75_000, uai=141)\n",
    "\n",
    "print(f\"Price of an Up-and-In barrier option: {uai_price}\")"
   ]
  },
  {
   "cell_type": "markdown",
   "id": "f8251857-faf6-4f67-b766-282a4beabc3d",
   "metadata": {},
   "source": [
    "##### b) Compute the price of the vanilla option (same characteristics, no barrier)"
   ]
  },
  {
   "cell_type": "code",
   "execution_count": 34,
   "id": "3907bd4d-de2a-4fa4-93da-aa69f458c470",
   "metadata": {},
   "outputs": [
    {
     "name": "stdout",
     "output_type": "stream",
     "text": [
      "Price of vanilla option: 13.86\n"
     ]
    }
   ],
   "source": [
    "np.random.seed(42)\n",
    "\n",
    "vanilla_option = OptionPricing(S_0, K, sigma, r, T, \"call\", \"European\")\n",
    "\n",
    "vanilla_price = vanilla_option.compute_monte_carlo(75_000)\n",
    "\n",
    "print(f\"Price of vanilla option: {vanilla_price}\")"
   ]
  },
  {
   "cell_type": "markdown",
   "id": "778092dc-4d6f-4128-bed4-967946d3c366",
   "metadata": {},
   "source": [
    "##### c) What is the relationship between the prices of the UAO, UAI, and vanilla option? Explain.\n",
    "\n",
    "|$S_0$ | $K$ | barrier | volatility | time to expiry | Vanilla | UAO | UAI |\n",
    "|:---:| :---: | :---: | :---: | :---: | :---: | :---: | :---: |\n",
    "| 120 | 120 | 141 | 30\\% | 8 months | 13.86 | 0.7 | 13.17 | \n",
    "\n",
    "* In an *up-and-out-option*, the option becomes worthless, when the price of underlying exceeds the barrier at any point in time before expiry.\n",
    "\n",
    "* In an *up-and-in option*, the option is worthy only if the price of underlying exceed the barrier at any point in time before expiry.\n",
    "\n",
    "* Both the UAO and UAI options have a barrier at 141 that limits their potential profitability.\n",
    "\n",
    "* The vanilla call option has a price of 13.86, the UAO option is priced at 0.7, and the UAI option is priced at 13.17.\n",
    "\n",
    "* The prices of the UAO and UAI options are related to the price of the vanilla call option, with the upper limit of their prices being the price of the vanilla call option.\n",
    "\n",
    "* The 30% volatility of the underlying asset increases the likelihood that the underlying asset price will reach the barrier before expiry and hence there are higher chances for UAO to become worthless, while the opposite holds true for the UAI option.\n",
    "\n",
    "* As the barrier approaches the current underlying asset price at t=0, the price of the UAI option gets closer to the price of the vanilla call option, while the price of the UAO option gets closer to zero.\n",
    "\n",
    "* As the barrier approaches infinity, the price of the UAI option gets closer to zero, while the price of the UAO option approaches the price of the vanilla call option."
   ]
  },
  {
   "cell_type": "code",
   "execution_count": null,
   "id": "ce14180b",
   "metadata": {},
   "outputs": [],
   "source": []
  }
 ],
 "metadata": {
  "hide_input": true,
  "kernelspec": {
   "display_name": "Python 3 (ipykernel)",
   "language": "python",
   "name": "python3"
  },
  "language_info": {
   "codemirror_mode": {
    "name": "ipython",
    "version": 3
   },
   "file_extension": ".py",
   "mimetype": "text/x-python",
   "name": "python",
   "nbconvert_exporter": "python",
   "pygments_lexer": "ipython3",
   "version": "3.10.13"
  }
 },
 "nbformat": 4,
 "nbformat_minor": 5
}
